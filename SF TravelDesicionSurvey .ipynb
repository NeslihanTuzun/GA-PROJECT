{
 "cells": [
  {
   "cell_type": "markdown",
   "metadata": {
    "collapsed": true
   },
   "source": [
    "# The Waze Rider\n",
    "- In this project, I'm trying to build machine learning models based on Kaggle and SMFTA's data: I came up with WAZE Rider San Francisco Pilot to study features of a carpool modelling and make prdedictions that could help the business.\n",
    "Waze is going the corporate route. Its Silicon Valley pilot is starting with more than 25,000 employees of select companies that schlep workers from city and the South Bay. \n",
    "\n",
    "Commute choice: dataset about carpool desicions, e.g., drive alone, car share, shuttle, uber, public transportation\n",
    "Location: information about users location\n",
    "Income: total income"
   ]
  },
  {
   "cell_type": "code",
   "execution_count": 138,
   "metadata": {
    "collapsed": true
   },
   "outputs": [],
   "source": [
    "import os\n",
    "import numpy as np\n",
    "import pandas as pd\n",
    "import csv\n",
    "import matplotlib.pyplot as plt\n",
    "import statsmodels.api as sm\n",
    "import statsmodels.formula.api as smf\n",
    "import seaborn as sns\n",
    "from sklearn import linear_model, cross_validation\n",
    "\n",
    "pd.set_option('display.max_rows', 10)\n",
    "pd.set_option('display.notebook_repr_html', True)\n",
    "pd.set_option('display.max_columns', 10)\n",
    "\n",
    "%matplotlib inline\n",
    "plt.style.use('ggplot')"
   ]
  },
  {
   "cell_type": "code",
   "execution_count": 103,
   "metadata": {
    "collapsed": false
   },
   "outputs": [],
   "source": [
    "df = pd.read_csv(os.path.join('..', 'FinalProject-GA', 'TDS_Data1.csv'))"
   ]
  },
  {
   "cell_type": "markdown",
   "metadata": {},
   "source": [
    "## The Dataset"
   ]
  },
  {
   "cell_type": "code",
   "execution_count": 104,
   "metadata": {
    "collapsed": false
   },
   "outputs": [
    {
     "data": {
      "text/html": [
       "<div>\n",
       "<table border=\"1\" class=\"dataframe\">\n",
       "  <thead>\n",
       "    <tr style=\"text-align: right;\">\n",
       "      <th></th>\n",
       "      <th>RESP_NUM</th>\n",
       "      <th>Q2</th>\n",
       "      <th>Q3</th>\n",
       "      <th>TRIPS</th>\n",
       "      <th>Q4_TOTAL</th>\n",
       "      <th>...</th>\n",
       "      <th>ZONE</th>\n",
       "      <th>INTERVIEW_DAY</th>\n",
       "      <th>INTERVIEW_DATE</th>\n",
       "      <th>AGECO</th>\n",
       "      <th>WEIGHT</th>\n",
       "    </tr>\n",
       "  </thead>\n",
       "  <tbody>\n",
       "    <tr>\n",
       "      <th>0</th>\n",
       "      <td>2.0</td>\n",
       "      <td>9</td>\n",
       "      <td>NaN</td>\n",
       "      <td>2</td>\n",
       "      <td>2.0</td>\n",
       "      <td>...</td>\n",
       "      <td>5.0</td>\n",
       "      <td>2</td>\n",
       "      <td>10/6/2014</td>\n",
       "      <td>1</td>\n",
       "      <td>1.043120</td>\n",
       "    </tr>\n",
       "    <tr>\n",
       "      <th>1</th>\n",
       "      <td>3.0</td>\n",
       "      <td>9</td>\n",
       "      <td>NaN</td>\n",
       "      <td>11</td>\n",
       "      <td>6.0</td>\n",
       "      <td>...</td>\n",
       "      <td>5.0</td>\n",
       "      <td>2</td>\n",
       "      <td>10/6/2014</td>\n",
       "      <td>2</td>\n",
       "      <td>1.115464</td>\n",
       "    </tr>\n",
       "    <tr>\n",
       "      <th>2</th>\n",
       "      <td>4.0</td>\n",
       "      <td>1</td>\n",
       "      <td>1.0</td>\n",
       "      <td>214</td>\n",
       "      <td>NaN</td>\n",
       "      <td>...</td>\n",
       "      <td>NaN</td>\n",
       "      <td>2</td>\n",
       "      <td>10/6/2014</td>\n",
       "      <td>7</td>\n",
       "      <td>1.048985</td>\n",
       "    </tr>\n",
       "    <tr>\n",
       "      <th>3</th>\n",
       "      <td>5.0</td>\n",
       "      <td>3</td>\n",
       "      <td>1.0</td>\n",
       "      <td>594</td>\n",
       "      <td>NaN</td>\n",
       "      <td>...</td>\n",
       "      <td>NaN</td>\n",
       "      <td>2</td>\n",
       "      <td>10/6/2014</td>\n",
       "      <td>10</td>\n",
       "      <td>0.930278</td>\n",
       "    </tr>\n",
       "    <tr>\n",
       "      <th>4</th>\n",
       "      <td>6.0</td>\n",
       "      <td>9</td>\n",
       "      <td>NaN</td>\n",
       "      <td>6</td>\n",
       "      <td>4.0</td>\n",
       "      <td>...</td>\n",
       "      <td>4.0</td>\n",
       "      <td>2</td>\n",
       "      <td>10/6/2014</td>\n",
       "      <td>4</td>\n",
       "      <td>0.870378</td>\n",
       "    </tr>\n",
       "    <tr>\n",
       "      <th>...</th>\n",
       "      <td>...</td>\n",
       "      <td>...</td>\n",
       "      <td>...</td>\n",
       "      <td>...</td>\n",
       "      <td>...</td>\n",
       "      <td>...</td>\n",
       "      <td>...</td>\n",
       "      <td>...</td>\n",
       "      <td>...</td>\n",
       "      <td>...</td>\n",
       "      <td>...</td>\n",
       "    </tr>\n",
       "    <tr>\n",
       "      <th>762</th>\n",
       "      <td>1920.0</td>\n",
       "      <td>9</td>\n",
       "      <td>NaN</td>\n",
       "      <td>6</td>\n",
       "      <td>4.0</td>\n",
       "      <td>...</td>\n",
       "      <td>5.0</td>\n",
       "      <td>1</td>\n",
       "      <td>11/9/2014</td>\n",
       "      <td>2</td>\n",
       "      <td>1.115464</td>\n",
       "    </tr>\n",
       "    <tr>\n",
       "      <th>763</th>\n",
       "      <td>1921.0</td>\n",
       "      <td>9</td>\n",
       "      <td>NaN</td>\n",
       "      <td>9</td>\n",
       "      <td>4.0</td>\n",
       "      <td>...</td>\n",
       "      <td>5.0</td>\n",
       "      <td>2</td>\n",
       "      <td>11/10/2014</td>\n",
       "      <td>3</td>\n",
       "      <td>0.865878</td>\n",
       "    </tr>\n",
       "    <tr>\n",
       "      <th>764</th>\n",
       "      <td>1922.0</td>\n",
       "      <td>9</td>\n",
       "      <td>NaN</td>\n",
       "      <td>5</td>\n",
       "      <td>5.0</td>\n",
       "      <td>...</td>\n",
       "      <td>5.0</td>\n",
       "      <td>2</td>\n",
       "      <td>11/10/2014</td>\n",
       "      <td>1</td>\n",
       "      <td>1.043120</td>\n",
       "    </tr>\n",
       "    <tr>\n",
       "      <th>765</th>\n",
       "      <td>1923.0</td>\n",
       "      <td>9</td>\n",
       "      <td>NaN</td>\n",
       "      <td>7</td>\n",
       "      <td>4.0</td>\n",
       "      <td>...</td>\n",
       "      <td>2.0</td>\n",
       "      <td>2</td>\n",
       "      <td>11/10/2014</td>\n",
       "      <td>3</td>\n",
       "      <td>0.865878</td>\n",
       "    </tr>\n",
       "    <tr>\n",
       "      <th>766</th>\n",
       "      <td>1924.0</td>\n",
       "      <td>9</td>\n",
       "      <td>NaN</td>\n",
       "      <td>10</td>\n",
       "      <td>3.0</td>\n",
       "      <td>...</td>\n",
       "      <td>1.0</td>\n",
       "      <td>2</td>\n",
       "      <td>11/10/2014</td>\n",
       "      <td>3</td>\n",
       "      <td>0.865878</td>\n",
       "    </tr>\n",
       "  </tbody>\n",
       "</table>\n",
       "<p>767 rows × 224 columns</p>\n",
       "</div>"
      ],
      "text/plain": [
       "     RESP_NUM  Q2   Q3  TRIPS  Q4_TOTAL    ...     ZONE  INTERVIEW_DAY  \\\n",
       "0         2.0   9  NaN      2       2.0    ...      5.0              2   \n",
       "1         3.0   9  NaN     11       6.0    ...      5.0              2   \n",
       "2         4.0   1  1.0    214       NaN    ...      NaN              2   \n",
       "3         5.0   3  1.0    594       NaN    ...      NaN              2   \n",
       "4         6.0   9  NaN      6       4.0    ...      4.0              2   \n",
       "..        ...  ..  ...    ...       ...    ...      ...            ...   \n",
       "762    1920.0   9  NaN      6       4.0    ...      5.0              1   \n",
       "763    1921.0   9  NaN      9       4.0    ...      5.0              2   \n",
       "764    1922.0   9  NaN      5       5.0    ...      5.0              2   \n",
       "765    1923.0   9  NaN      7       4.0    ...      2.0              2   \n",
       "766    1924.0   9  NaN     10       3.0    ...      1.0              2   \n",
       "\n",
       "     INTERVIEW_DATE  AGECO    WEIGHT  \n",
       "0         10/6/2014      1  1.043120  \n",
       "1         10/6/2014      2  1.115464  \n",
       "2         10/6/2014      7  1.048985  \n",
       "3         10/6/2014     10  0.930278  \n",
       "4         10/6/2014      4  0.870378  \n",
       "..              ...    ...       ...  \n",
       "762       11/9/2014      2  1.115464  \n",
       "763      11/10/2014      3  0.865878  \n",
       "764      11/10/2014      1  1.043120  \n",
       "765      11/10/2014      3  0.865878  \n",
       "766      11/10/2014      3  0.865878  \n",
       "\n",
       "[767 rows x 224 columns]"
      ]
     },
     "execution_count": 104,
     "metadata": {},
     "output_type": "execute_result"
    }
   ],
   "source": [
    "df"
   ]
  },
  {
   "cell_type": "raw",
   "metadata": {},
   "source": [
    "   The travel desicion survey within the City and County of San Francisco as well as the eight surrounding Bay Area counties of Alameda, Contra Costa, San Mateo, Marin, Santa Clara, Napa, Sonoma and Solano. A description of the dataset is as follows:\n",
    "    \n",
    "RESP-NUM: per capita crime rate by town\n",
    "Q2: In which Bay Area county do you live? 1=Alameda 2=Contra Costa 3=Marin 4=Napa 5=San Mateo 6=Santa Clara 7=Solano 8=Sonoma 9=San Francisco 0=Do not live in Bay Area  \n",
    "Q3: Have you gone into San Francisco within the past month (30 days)? 1=Yes 2=No \n",
    "TRIPS: Charles River binary/dummy variable (= 1 if tract bounds river; 0 otherwise)\n",
    "Q4_Total: nitric oxides concentration (parts per 10 million)\n",
    "Q4aP: (SF Residents) Where did you go? 1=Work 2=School 3=Shopping 4=Out to eat/Social/Entertainment/Recreation 5=Home 6=Other 7=Don't know / Don't remember 8=Religious/Volunteer/Political\n",
    "Q18M: 1=Drove my vehicle alone2=Drove my vehicle with others3=Drove car share4=Uber, Lyft, Sidecar or similar transportation network company5=Regular taxi6=Public transportation (Muni, BART, AC Transit, VTA, Amtrak, Paratransit, etc.)7=Private bus or van, including corporate shuttle, campus shuttle or similar (including UCSF, CPMC, Art Institute Leap, and RidePal)8=Bicycle9=Walk 10=Scooter/Motorcycle11=Other (specify)12=Don't know / Don't remember \n",
    "Zone: (San Francisco Residents) San Francisco Zone (Based on Zip code)\n",
    "Interview_Day: Date of the interview\n",
    "Interview_Date: Day of the week on which the interview was conducted (1=Sunday2=Monday3=Tuesday4=Wednesday5=Thursday6=Friday7=Saturday)\n",
    "Adeco: Age code (used for weighting) 1=18-24 (Inside SF)2=25-34 (Inside SF)3=35-44 (Inside SF)4=45-54 (Inside SF)5=55 and older/Refused (Inside SF)6=18-24 (Outside SF)7=25-34 (Outside SF)8=35-44 (Outside SF)9=45-54 (Outside SF)10=55 and older/Refused (Outside SF)\n",
    "Weight: Weighting factor applied to record"
   ]
  },
  {
   "cell_type": "code",
   "execution_count": 105,
   "metadata": {
    "collapsed": false
   },
   "outputs": [
    {
     "data": {
      "text/plain": [
       "Index([u'RESP_NUM', u'Q2', u'Q3', u'TRIPS', u'Q4_TOTAL', u'Q5_TOTAL', u'Q4AP',\n",
       "       u'Q4BP', u'Q4CP', u'Q4DP',\n",
       "       ...\n",
       "       u'Q26-5', u'Q27', u'Q28', u'SAMPLE_TYPE', u'LANGUAGE', u'ZONE',\n",
       "       u'INTERVIEW_DAY', u'INTERVIEW_DATE', u'AGECO', u'WEIGHT'],\n",
       "      dtype='object', length=224)"
      ]
     },
     "execution_count": 105,
     "metadata": {},
     "output_type": "execute_result"
    }
   ],
   "source": [
    "df.columns"
   ]
  },
  {
   "cell_type": "code",
   "execution_count": 106,
   "metadata": {
    "collapsed": false
   },
   "outputs": [
    {
     "name": "stdout",
     "output_type": "stream",
     "text": [
      "RESP_NUM          767\n",
      "Q2                767\n",
      "Q3                392\n",
      "TRIPS             767\n",
      "Q4_TOTAL          375\n",
      "                 ... \n",
      "ZONE              375\n",
      "INTERVIEW_DAY     767\n",
      "INTERVIEW_DATE    767\n",
      "AGECO             767\n",
      "WEIGHT            767\n",
      "dtype: int64\n"
     ]
    }
   ],
   "source": [
    "print df.count()"
   ]
  },
  {
   "cell_type": "markdown",
   "metadata": {},
   "source": [
    "## Cleaning the Data"
   ]
  },
  {
   "cell_type": "code",
   "execution_count": 107,
   "metadata": {
    "collapsed": false
   },
   "outputs": [],
   "source": [
    "##Remove columns\n",
    "# Selecting only Home and Work - base on carpool purpose , Commute Way - Carpool\n",
    "df.drop(['SCH', 'SHOP', 'SOC', 'OTH-P-SF', 'DK-P-SF','SHTTLE', 'BIKE', 'WALK', 'SCOOT', 'REL', 'OTH-M-SF', 'DK-M-SF', \n",
    "'SF-D1','INTERVIEW_DAY', 'INTERVIEW_DATE', 'LANGUAGE', 'Q4BP', 'Q4CP', 'Q4DP', 'Q4EP', 'Q4FP', 'Q4GP', 'Q4HP', 'Q5BP',\n",
    "'Q5CP', 'Q5DP', 'Q5EP', 'Q5FP', 'Q5GP', 'Q5HP', 'Q18AP', 'Q18BP', 'Q18CP', 'Q18DP', 'Q18EP', 'Q18FP', 'Q18GP', 'Q18HP', \n",
    "'SCH1', 'SHOP1', 'SOC1', 'OTH1-P', 'DK1-P', 'SCH2', 'SHOP2', 'SOC2', 'OTH2-P', 'DK2-P', 'REL1', 'REL2', 'SHTTLE1', 'BIKE1',\n",
    "'WALK1', 'SCOOT1', 'SHTTLE2', 'BIKE2', 'WALK2', 'SCOOT2', 'OTH1-M', 'OTH2-M', 'DK1-M', 'DK2-M', 'Q18AD', 'Q18BD', 'Q18CD', \n",
    "'Q18DD', 'Q18ED', 'Q18FD', 'Q18GD', 'Q18HD', 'OSF1-D1', 'OSF1-D3', 'OSF2-D1', 'OSF2-D3', 'Q22', 'Q26-1', 'Q26-2', 'Q26-3', \n",
    "'Q26-4', 'Q26-5', 'SAMPLE_TYPE', 'Q3', 'TRIPS', 'Q4_TOTAL', 'Q5_TOTAL', 'Q4AM', 'Q4BM', 'Q4CM', 'Q4DM', 'Q4EM', 'Q4FM', \n",
    "'Q4GM','Q4HM', 'Q5AM', 'Q5BM', 'Q5CM', 'Q5DM', 'Q5EM', 'Q5FM', 'Q5GM', 'Q5HM', 'Q4AD', 'Q4BD', 'Q4CD', 'Q4DD', 'Q4ED',\n",
    "'Q4FD', 'Q4GD','Q4HD', 'Q5AD', 'Q5BD', 'Q5CD', 'Q5DD', 'Q5ED', 'Q5FD', 'Q5GD', 'Q5HD', 'Q8', 'Q11AP', 'Q11BP', 'Q11CP', \n",
    "'Q11DP','Q11EP', 'Q11FP', 'Q11GP', 'Q11HP', 'Q11AM', 'Q11BM', 'Q11CM', 'Q11DM','Q11EM', 'Q11FM', 'Q11GM',\n",
    "'Q11HM', 'Q14M', 'Q16M-ADJ', 'Q18AM', 'Q18BM', 'Q18CM', 'Q18DM', \n",
    "'Q18EM', 'Q18FM', 'Q18GM', 'Q18HM', 'SF-D3'], axis = 1, inplace = True)"
   ]
  },
  {
   "cell_type": "code",
   "execution_count": 108,
   "metadata": {
    "collapsed": false
   },
   "outputs": [],
   "source": [
    "df = df.rename(columns={'Q27': 'Income'})\n",
    "df = df.rename(columns={'RESP_NUM': 'RespondentNumber'})\n",
    "df = df.rename(columns={'Q2': 'Location'})\n",
    "df = df.rename(columns={'Q28': 'Gender'})"
   ]
  },
  {
   "cell_type": "code",
   "execution_count": 109,
   "metadata": {
    "collapsed": false
   },
   "outputs": [
    {
     "data": {
      "text/plain": [
       "Index([u'RespondentNumber', u'Location', u'Q4AP', u'Q5AP', u'WORK', u'HOME',\n",
       "       u'SFINTMODE', u'DA', u'DO', u'CRSHRE', u'TNC', u'TAXI', u'TRANS',\n",
       "       u'SF-D2', u'Q6', u'Q10', u'Q11_TOTAL', u'Q12', u'Q19', u'Q13', u'Q15',\n",
       "       u'Q16M', u'Q17', u'Q18_TOTAL', u'Q9M', u'Q7P', u'9P-ADJ', u'Q14P',\n",
       "       u'Q16P-ADJ', u'WORK1', u'WORK2', u'HOME1', u'HOME2', u'Q7M', u'Q9M-ADJ',\n",
       "       u'DA1', u'DA2', u'DO1', u'DO2', u'CRSHRE1', u'CRSHRE2', u'TNC1',\n",
       "       u'TNC2', u'TAXI1', u'TAXI2', u'TRANS1', u'TRANS2', u'Q7D', u'Q9D',\n",
       "       u'Q11AD', u'Q11BD', u'Q11CD', u'Q11DD', u'Q11ED', u'Q11FD', u'Q11GD',\n",
       "       u'Q11HD', u'Q14D', u'Q16D', u'OSF1-D2', u'OSF2-D2', u'OSF-D1',\n",
       "       u'OSF-D2', u'OSF-D3', u'Q20A', u'Q21A', u'Q21B', u'Q21C', u'Q21D',\n",
       "       u'Q23', u'Q24-SF', u'Q24-NSF', u'Q24A', u'Q25', u'Income', u'Gender',\n",
       "       u'ZONE', u'AGECO', u'WEIGHT'],\n",
       "      dtype='object')"
      ]
     },
     "execution_count": 109,
     "metadata": {},
     "output_type": "execute_result"
    }
   ],
   "source": [
    "df.columns"
   ]
  },
  {
   "cell_type": "code",
   "execution_count": null,
   "metadata": {
    "collapsed": true
   },
   "outputs": [],
   "source": [
    "## Dropping additional columns "
   ]
  },
  {
   "cell_type": "code",
   "execution_count": 117,
   "metadata": {
    "collapsed": false
   },
   "outputs": [],
   "source": [
    "df.drop(['Q4AP', 'Q5AP', 'SFINTMODE', 'Q6', 'Q10', 'Q11_TOTAL', 'Q12', 'Q19', 'Q15', 'Q16M',\n",
    "'Q18_TOTAL', 'Q9M', 'Q7P', '9P-ADJ', 'Q14P', 'Q16P-ADJ', 'Q7M', 'Q9M-ADJ',\n",
    "'Q7D', u'Q9D'], axis = 1, inplace = True)"
   ]
  },
  {
   "cell_type": "code",
   "execution_count": 118,
   "metadata": {
    "collapsed": false
   },
   "outputs": [
    {
     "data": {
      "text/plain": [
       "Index([u'RespondentNumber', u'Location', u'WORK', u'HOME', u'DA', u'DO',\n",
       "       u'CRSHRE', u'TNC', u'TAXI', u'TRANS', u'SF-D2', u'Q13', u'Q17',\n",
       "       u'WORK1', u'WORK2', u'HOME1', u'HOME2', u'DA1', u'DA2', u'DO1', u'DO2',\n",
       "       u'CRSHRE1', u'CRSHRE2', u'TNC1', u'TNC2', u'TAXI1', u'TAXI2', u'TRANS1',\n",
       "       u'TRANS2', u'Q11AD', u'Q11BD', u'Q11CD', u'Q11DD', u'Q11ED', u'Q11FD',\n",
       "       u'Q11GD', u'Q11HD', u'Q14D', u'Q16D', u'OSF1-D2', u'OSF2-D2', u'OSF-D1',\n",
       "       u'OSF-D2', u'OSF-D3', u'Q20A', u'Q21A', u'Q21B', u'Q21C', u'Q21D',\n",
       "       u'Q23', u'Q24-SF', u'Q24-NSF', u'Q24A', u'Q25', u'Income', u'Gender',\n",
       "       u'ZONE', u'AGECO', u'WEIGHT'],\n",
       "      dtype='object')"
      ]
     },
     "execution_count": 118,
     "metadata": {},
     "output_type": "execute_result"
    }
   ],
   "source": [
    "df.columns"
   ]
  },
  {
   "cell_type": "code",
   "execution_count": 120,
   "metadata": {
    "collapsed": false
   },
   "outputs": [
    {
     "data": {
      "text/plain": [
       "array([9, 1, 3, 8, 5, 2, 6, 7, 4])"
      ]
     },
     "execution_count": 120,
     "metadata": {},
     "output_type": "execute_result"
    }
   ],
   "source": [
    "df.Location.unique()"
   ]
  },
  {
   "cell_type": "markdown",
   "metadata": {},
   "source": [
    "Select 5-6-9 Location numbers meaning San Francisco and South Bay"
   ]
  },
  {
   "cell_type": "code",
   "execution_count": 125,
   "metadata": {
    "collapsed": false
   },
   "outputs": [
    {
     "data": {
      "text/html": [
       "<div>\n",
       "<table border=\"1\" class=\"dataframe\">\n",
       "  <thead>\n",
       "    <tr style=\"text-align: right;\">\n",
       "      <th></th>\n",
       "      <th>RespondentNumber</th>\n",
       "      <th>Location</th>\n",
       "      <th>WORK</th>\n",
       "      <th>HOME</th>\n",
       "      <th>DA</th>\n",
       "      <th>...</th>\n",
       "      <th>Income</th>\n",
       "      <th>Gender</th>\n",
       "      <th>ZONE</th>\n",
       "      <th>AGECO</th>\n",
       "      <th>WEIGHT</th>\n",
       "    </tr>\n",
       "  </thead>\n",
       "  <tbody>\n",
       "    <tr>\n",
       "      <th>12</th>\n",
       "      <td>16.0</td>\n",
       "      <td>5</td>\n",
       "      <td>NaN</td>\n",
       "      <td>NaN</td>\n",
       "      <td>NaN</td>\n",
       "      <td>...</td>\n",
       "      <td>3</td>\n",
       "      <td>2</td>\n",
       "      <td>NaN</td>\n",
       "      <td>7</td>\n",
       "      <td>1.048985</td>\n",
       "    </tr>\n",
       "    <tr>\n",
       "      <th>26</th>\n",
       "      <td>32.0</td>\n",
       "      <td>5</td>\n",
       "      <td>NaN</td>\n",
       "      <td>NaN</td>\n",
       "      <td>NaN</td>\n",
       "      <td>...</td>\n",
       "      <td>3</td>\n",
       "      <td>1</td>\n",
       "      <td>NaN</td>\n",
       "      <td>10</td>\n",
       "      <td>0.930278</td>\n",
       "    </tr>\n",
       "    <tr>\n",
       "      <th>48</th>\n",
       "      <td>59.0</td>\n",
       "      <td>5</td>\n",
       "      <td>NaN</td>\n",
       "      <td>NaN</td>\n",
       "      <td>NaN</td>\n",
       "      <td>...</td>\n",
       "      <td>4</td>\n",
       "      <td>2</td>\n",
       "      <td>NaN</td>\n",
       "      <td>7</td>\n",
       "      <td>1.048985</td>\n",
       "    </tr>\n",
       "    <tr>\n",
       "      <th>49</th>\n",
       "      <td>61.0</td>\n",
       "      <td>5</td>\n",
       "      <td>NaN</td>\n",
       "      <td>NaN</td>\n",
       "      <td>NaN</td>\n",
       "      <td>...</td>\n",
       "      <td>4</td>\n",
       "      <td>1</td>\n",
       "      <td>NaN</td>\n",
       "      <td>10</td>\n",
       "      <td>0.930278</td>\n",
       "    </tr>\n",
       "    <tr>\n",
       "      <th>52</th>\n",
       "      <td>64.0</td>\n",
       "      <td>5</td>\n",
       "      <td>NaN</td>\n",
       "      <td>NaN</td>\n",
       "      <td>NaN</td>\n",
       "      <td>...</td>\n",
       "      <td>5</td>\n",
       "      <td>2</td>\n",
       "      <td>NaN</td>\n",
       "      <td>7</td>\n",
       "      <td>1.048985</td>\n",
       "    </tr>\n",
       "  </tbody>\n",
       "</table>\n",
       "<p>5 rows × 59 columns</p>\n",
       "</div>"
      ],
      "text/plain": [
       "    RespondentNumber  Location  WORK  HOME  DA    ...     Income  Gender  \\\n",
       "12              16.0         5   NaN   NaN NaN    ...          3       2   \n",
       "26              32.0         5   NaN   NaN NaN    ...          3       1   \n",
       "48              59.0         5   NaN   NaN NaN    ...          4       2   \n",
       "49              61.0         5   NaN   NaN NaN    ...          4       1   \n",
       "52              64.0         5   NaN   NaN NaN    ...          5       2   \n",
       "\n",
       "    ZONE  AGECO    WEIGHT  \n",
       "12   NaN      7  1.048985  \n",
       "26   NaN     10  0.930278  \n",
       "48   NaN      7  1.048985  \n",
       "49   NaN     10  0.930278  \n",
       "52   NaN      7  1.048985  \n",
       "\n",
       "[5 rows x 59 columns]"
      ]
     },
     "execution_count": 125,
     "metadata": {},
     "output_type": "execute_result"
    }
   ],
   "source": [
    "subset_df = df[(df.Location == 5)]\n",
    "\n",
    "subset_df.head()"
   ]
  },
  {
   "cell_type": "code",
   "execution_count": 129,
   "metadata": {
    "collapsed": false
   },
   "outputs": [
    {
     "data": {
      "text/html": [
       "<div>\n",
       "<table border=\"1\" class=\"dataframe\">\n",
       "  <thead>\n",
       "    <tr style=\"text-align: right;\">\n",
       "      <th></th>\n",
       "      <th>RespondentNumber</th>\n",
       "      <th>Location</th>\n",
       "      <th>WORK</th>\n",
       "      <th>HOME</th>\n",
       "      <th>DA</th>\n",
       "      <th>...</th>\n",
       "      <th>Income</th>\n",
       "      <th>Gender</th>\n",
       "      <th>ZONE</th>\n",
       "      <th>AGECO</th>\n",
       "      <th>WEIGHT</th>\n",
       "    </tr>\n",
       "  </thead>\n",
       "  <tbody>\n",
       "    <tr>\n",
       "      <th>43</th>\n",
       "      <td>53.0</td>\n",
       "      <td>6</td>\n",
       "      <td>NaN</td>\n",
       "      <td>NaN</td>\n",
       "      <td>NaN</td>\n",
       "      <td>...</td>\n",
       "      <td>5</td>\n",
       "      <td>1</td>\n",
       "      <td>NaN</td>\n",
       "      <td>8</td>\n",
       "      <td>0.938616</td>\n",
       "    </tr>\n",
       "    <tr>\n",
       "      <th>63</th>\n",
       "      <td>76.0</td>\n",
       "      <td>6</td>\n",
       "      <td>NaN</td>\n",
       "      <td>NaN</td>\n",
       "      <td>NaN</td>\n",
       "      <td>...</td>\n",
       "      <td>5</td>\n",
       "      <td>1</td>\n",
       "      <td>NaN</td>\n",
       "      <td>7</td>\n",
       "      <td>1.048985</td>\n",
       "    </tr>\n",
       "    <tr>\n",
       "      <th>86</th>\n",
       "      <td>102.0</td>\n",
       "      <td>6</td>\n",
       "      <td>NaN</td>\n",
       "      <td>NaN</td>\n",
       "      <td>NaN</td>\n",
       "      <td>...</td>\n",
       "      <td>1</td>\n",
       "      <td>1</td>\n",
       "      <td>NaN</td>\n",
       "      <td>10</td>\n",
       "      <td>0.930278</td>\n",
       "    </tr>\n",
       "    <tr>\n",
       "      <th>88</th>\n",
       "      <td>104.0</td>\n",
       "      <td>6</td>\n",
       "      <td>NaN</td>\n",
       "      <td>NaN</td>\n",
       "      <td>NaN</td>\n",
       "      <td>...</td>\n",
       "      <td>1</td>\n",
       "      <td>2</td>\n",
       "      <td>NaN</td>\n",
       "      <td>10</td>\n",
       "      <td>0.930278</td>\n",
       "    </tr>\n",
       "    <tr>\n",
       "      <th>95</th>\n",
       "      <td>112.0</td>\n",
       "      <td>6</td>\n",
       "      <td>NaN</td>\n",
       "      <td>NaN</td>\n",
       "      <td>NaN</td>\n",
       "      <td>...</td>\n",
       "      <td>3</td>\n",
       "      <td>2</td>\n",
       "      <td>NaN</td>\n",
       "      <td>10</td>\n",
       "      <td>0.930278</td>\n",
       "    </tr>\n",
       "  </tbody>\n",
       "</table>\n",
       "<p>5 rows × 59 columns</p>\n",
       "</div>"
      ],
      "text/plain": [
       "    RespondentNumber  Location  WORK  HOME  DA    ...     Income  Gender  \\\n",
       "43              53.0         6   NaN   NaN NaN    ...          5       1   \n",
       "63              76.0         6   NaN   NaN NaN    ...          5       1   \n",
       "86             102.0         6   NaN   NaN NaN    ...          1       1   \n",
       "88             104.0         6   NaN   NaN NaN    ...          1       2   \n",
       "95             112.0         6   NaN   NaN NaN    ...          3       2   \n",
       "\n",
       "    ZONE  AGECO    WEIGHT  \n",
       "43   NaN      8  0.938616  \n",
       "63   NaN      7  1.048985  \n",
       "86   NaN     10  0.930278  \n",
       "88   NaN     10  0.930278  \n",
       "95   NaN     10  0.930278  \n",
       "\n",
       "[5 rows x 59 columns]"
      ]
     },
     "execution_count": 129,
     "metadata": {},
     "output_type": "execute_result"
    }
   ],
   "source": [
    "subset_df = df[(df.Location == 6)]\n",
    "\n",
    "subset_df.head()"
   ]
  },
  {
   "cell_type": "code",
   "execution_count": 128,
   "metadata": {
    "collapsed": false
   },
   "outputs": [
    {
     "data": {
      "text/html": [
       "<div>\n",
       "<table border=\"1\" class=\"dataframe\">\n",
       "  <thead>\n",
       "    <tr style=\"text-align: right;\">\n",
       "      <th></th>\n",
       "      <th>RespondentNumber</th>\n",
       "      <th>Location</th>\n",
       "      <th>WORK</th>\n",
       "      <th>HOME</th>\n",
       "      <th>DA</th>\n",
       "      <th>...</th>\n",
       "      <th>Income</th>\n",
       "      <th>Gender</th>\n",
       "      <th>ZONE</th>\n",
       "      <th>AGECO</th>\n",
       "      <th>WEIGHT</th>\n",
       "    </tr>\n",
       "  </thead>\n",
       "  <tbody>\n",
       "    <tr>\n",
       "      <th>0</th>\n",
       "      <td>2.0</td>\n",
       "      <td>9</td>\n",
       "      <td>0.0</td>\n",
       "      <td>1.0</td>\n",
       "      <td>0.0</td>\n",
       "      <td>...</td>\n",
       "      <td>1</td>\n",
       "      <td>1</td>\n",
       "      <td>5.0</td>\n",
       "      <td>1</td>\n",
       "      <td>1.043120</td>\n",
       "    </tr>\n",
       "    <tr>\n",
       "      <th>1</th>\n",
       "      <td>3.0</td>\n",
       "      <td>9</td>\n",
       "      <td>4.0</td>\n",
       "      <td>2.0</td>\n",
       "      <td>2.0</td>\n",
       "      <td>...</td>\n",
       "      <td>4</td>\n",
       "      <td>2</td>\n",
       "      <td>5.0</td>\n",
       "      <td>2</td>\n",
       "      <td>1.115464</td>\n",
       "    </tr>\n",
       "    <tr>\n",
       "      <th>4</th>\n",
       "      <td>6.0</td>\n",
       "      <td>9</td>\n",
       "      <td>0.0</td>\n",
       "      <td>2.0</td>\n",
       "      <td>0.0</td>\n",
       "      <td>...</td>\n",
       "      <td>4</td>\n",
       "      <td>1</td>\n",
       "      <td>4.0</td>\n",
       "      <td>4</td>\n",
       "      <td>0.870378</td>\n",
       "    </tr>\n",
       "    <tr>\n",
       "      <th>7</th>\n",
       "      <td>10.0</td>\n",
       "      <td>9</td>\n",
       "      <td>3.0</td>\n",
       "      <td>2.0</td>\n",
       "      <td>5.0</td>\n",
       "      <td>...</td>\n",
       "      <td>3</td>\n",
       "      <td>1</td>\n",
       "      <td>3.0</td>\n",
       "      <td>3</td>\n",
       "      <td>0.865878</td>\n",
       "    </tr>\n",
       "    <tr>\n",
       "      <th>9</th>\n",
       "      <td>12.0</td>\n",
       "      <td>9</td>\n",
       "      <td>0.0</td>\n",
       "      <td>1.0</td>\n",
       "      <td>1.0</td>\n",
       "      <td>...</td>\n",
       "      <td>1</td>\n",
       "      <td>1</td>\n",
       "      <td>5.0</td>\n",
       "      <td>3</td>\n",
       "      <td>0.865878</td>\n",
       "    </tr>\n",
       "  </tbody>\n",
       "</table>\n",
       "<p>5 rows × 59 columns</p>\n",
       "</div>"
      ],
      "text/plain": [
       "   RespondentNumber  Location  WORK  HOME   DA    ...     Income  Gender  \\\n",
       "0               2.0         9   0.0   1.0  0.0    ...          1       1   \n",
       "1               3.0         9   4.0   2.0  2.0    ...          4       2   \n",
       "4               6.0         9   0.0   2.0  0.0    ...          4       1   \n",
       "7              10.0         9   3.0   2.0  5.0    ...          3       1   \n",
       "9              12.0         9   0.0   1.0  1.0    ...          1       1   \n",
       "\n",
       "   ZONE  AGECO    WEIGHT  \n",
       "0   5.0      1  1.043120  \n",
       "1   5.0      2  1.115464  \n",
       "4   4.0      4  0.870378  \n",
       "7   3.0      3  0.865878  \n",
       "9   5.0      3  0.865878  \n",
       "\n",
       "[5 rows x 59 columns]"
      ]
     },
     "execution_count": 128,
     "metadata": {},
     "output_type": "execute_result"
    }
   ],
   "source": [
    "subset_df = df[(df.Location == 9)]\n",
    "\n",
    "subset_df.head()"
   ]
  },
  {
   "cell_type": "code",
   "execution_count": 131,
   "metadata": {
    "collapsed": false
   },
   "outputs": [
    {
     "data": {
      "text/plain": [
       "array([  0.,   4.,  nan,   3.,   2.,   1.,   8.,   5.])"
      ]
     },
     "execution_count": 131,
     "metadata": {},
     "output_type": "execute_result"
    }
   ],
   "source": [
    "df.WORK.unique()"
   ]
  },
  {
   "cell_type": "code",
   "execution_count": 133,
   "metadata": {
    "collapsed": false
   },
   "outputs": [
    {
     "data": {
      "text/plain": [
       "0.0    192\n",
       "2.0     76\n",
       "1.0     68\n",
       "3.0     23\n",
       "4.0     14\n",
       "8.0      1\n",
       "5.0      1\n",
       "Name: WORK, dtype: int64"
      ]
     },
     "execution_count": 133,
     "metadata": {},
     "output_type": "execute_result"
    }
   ],
   "source": [
    "df.WORK.value_counts()"
   ]
  },
  {
   "cell_type": "code",
   "execution_count": 134,
   "metadata": {
    "collapsed": false
   },
   "outputs": [
    {
     "data": {
      "text/html": [
       "<div>\n",
       "<table border=\"1\" class=\"dataframe\">\n",
       "  <thead>\n",
       "    <tr style=\"text-align: right;\">\n",
       "      <th></th>\n",
       "      <th>WORK</th>\n",
       "    </tr>\n",
       "  </thead>\n",
       "  <tbody>\n",
       "    <tr>\n",
       "      <th>0</th>\n",
       "      <td>0.0</td>\n",
       "    </tr>\n",
       "    <tr>\n",
       "      <th>1</th>\n",
       "      <td>4.0</td>\n",
       "    </tr>\n",
       "    <tr>\n",
       "      <th>2</th>\n",
       "      <td>NaN</td>\n",
       "    </tr>\n",
       "    <tr>\n",
       "      <th>3</th>\n",
       "      <td>NaN</td>\n",
       "    </tr>\n",
       "    <tr>\n",
       "      <th>4</th>\n",
       "      <td>0.0</td>\n",
       "    </tr>\n",
       "    <tr>\n",
       "      <th>...</th>\n",
       "      <td>...</td>\n",
       "    </tr>\n",
       "    <tr>\n",
       "      <th>762</th>\n",
       "      <td>1.0</td>\n",
       "    </tr>\n",
       "    <tr>\n",
       "      <th>763</th>\n",
       "      <td>2.0</td>\n",
       "    </tr>\n",
       "    <tr>\n",
       "      <th>764</th>\n",
       "      <td>0.0</td>\n",
       "    </tr>\n",
       "    <tr>\n",
       "      <th>765</th>\n",
       "      <td>0.0</td>\n",
       "    </tr>\n",
       "    <tr>\n",
       "      <th>766</th>\n",
       "      <td>0.0</td>\n",
       "    </tr>\n",
       "  </tbody>\n",
       "</table>\n",
       "<p>767 rows × 1 columns</p>\n",
       "</div>"
      ],
      "text/plain": [
       "     WORK\n",
       "0     0.0\n",
       "1     4.0\n",
       "2     NaN\n",
       "3     NaN\n",
       "4     0.0\n",
       "..    ...\n",
       "762   1.0\n",
       "763   2.0\n",
       "764   0.0\n",
       "765   0.0\n",
       "766   0.0\n",
       "\n",
       "[767 rows x 1 columns]"
      ]
     },
     "execution_count": 134,
     "metadata": {},
     "output_type": "execute_result"
    }
   ],
   "source": [
    "df[ [df.columns.get_loc('WORK')] ]"
   ]
  },
  {
   "cell_type": "code",
   "execution_count": 135,
   "metadata": {
    "collapsed": false
   },
   "outputs": [
    {
     "ename": "AttributeError",
     "evalue": "'DataFrame' object has no attribute 'BuiltInYear'",
     "output_type": "error",
     "traceback": [
      "\u001b[0;31m---------------------------------------------------------------------------\u001b[0m",
      "\u001b[0;31mAttributeError\u001b[0m                            Traceback (most recent call last)",
      "\u001b[0;32m<ipython-input-135-53b27a607efc>\u001b[0m in \u001b[0;36m<module>\u001b[0;34m()\u001b[0m\n\u001b[0;32m----> 1\u001b[0;31m \u001b[0mdf\u001b[0m\u001b[0;34m[\u001b[0m \u001b[0;34m(\u001b[0m\u001b[0mdf\u001b[0m\u001b[0;34m.\u001b[0m\u001b[0mBuiltInYear\u001b[0m \u001b[0;34m<\u001b[0m \u001b[0;36m1900\u001b[0m\u001b[0;34m)\u001b[0m \u001b[0;34m&\u001b[0m \u001b[0;34m(\u001b[0m\u001b[0mdf\u001b[0m\u001b[0;34m.\u001b[0m\u001b[0mSize\u001b[0m \u001b[0;34m>\u001b[0m \u001b[0;36m1500\u001b[0m\u001b[0;34m)\u001b[0m \u001b[0;34m]\u001b[0m\u001b[0;34m[\u001b[0m \u001b[0;34m[\u001b[0m\u001b[0;34m'Address'\u001b[0m\u001b[0;34m]\u001b[0m \u001b[0;34m]\u001b[0m\u001b[0;34m\u001b[0m\u001b[0m\n\u001b[0m",
      "\u001b[0;32m//anaconda/lib/python2.7/site-packages/pandas/core/generic.pyc\u001b[0m in \u001b[0;36m__getattr__\u001b[0;34m(self, name)\u001b[0m\n\u001b[1;32m   2670\u001b[0m             \u001b[0;32mif\u001b[0m \u001b[0mname\u001b[0m \u001b[0;32min\u001b[0m \u001b[0mself\u001b[0m\u001b[0;34m.\u001b[0m\u001b[0m_info_axis\u001b[0m\u001b[0;34m:\u001b[0m\u001b[0;34m\u001b[0m\u001b[0m\n\u001b[1;32m   2671\u001b[0m                 \u001b[0;32mreturn\u001b[0m \u001b[0mself\u001b[0m\u001b[0;34m[\u001b[0m\u001b[0mname\u001b[0m\u001b[0;34m]\u001b[0m\u001b[0;34m\u001b[0m\u001b[0m\n\u001b[0;32m-> 2672\u001b[0;31m             \u001b[0;32mreturn\u001b[0m \u001b[0mobject\u001b[0m\u001b[0;34m.\u001b[0m\u001b[0m__getattribute__\u001b[0m\u001b[0;34m(\u001b[0m\u001b[0mself\u001b[0m\u001b[0;34m,\u001b[0m \u001b[0mname\u001b[0m\u001b[0;34m)\u001b[0m\u001b[0;34m\u001b[0m\u001b[0m\n\u001b[0m\u001b[1;32m   2673\u001b[0m \u001b[0;34m\u001b[0m\u001b[0m\n\u001b[1;32m   2674\u001b[0m     \u001b[0;32mdef\u001b[0m \u001b[0m__setattr__\u001b[0m\u001b[0;34m(\u001b[0m\u001b[0mself\u001b[0m\u001b[0;34m,\u001b[0m \u001b[0mname\u001b[0m\u001b[0;34m,\u001b[0m \u001b[0mvalue\u001b[0m\u001b[0;34m)\u001b[0m\u001b[0;34m:\u001b[0m\u001b[0;34m\u001b[0m\u001b[0m\n",
      "\u001b[0;31mAttributeError\u001b[0m: 'DataFrame' object has no attribute 'BuiltInYear'"
     ]
    }
   ],
   "source": [
    "df[ (df.BuiltInYear < 1900) & (df.Size > 1500) ][ ['Address'] ]"
   ]
  },
  {
   "cell_type": "code",
   "execution_count": 136,
   "metadata": {
    "collapsed": false
   },
   "outputs": [
    {
     "ename": "SyntaxError",
     "evalue": "invalid syntax (<ipython-input-136-fb31204efafc>, line 3)",
     "output_type": "error",
     "traceback": [
      "\u001b[0;36m  File \u001b[0;32m\"<ipython-input-136-fb31204efafc>\"\u001b[0;36m, line \u001b[0;32m3\u001b[0m\n\u001b[0;31m    HOME WORK DO CRSHRE SF-D2-\u001b[0m\n\u001b[0m            ^\u001b[0m\n\u001b[0;31mSyntaxError\u001b[0m\u001b[0;31m:\u001b[0m invalid syntax\n"
     ]
    }
   ],
   "source": [
    "# Selecting Home and Work - base on carpool purpose \n",
    "\n",
    "HOME WORK DO CRSHRE SF-D2-  "
   ]
  },
  {
   "cell_type": "markdown",
   "metadata": {
    "collapsed": true
   },
   "source": [
    "## Exploratory Data Analysis"
   ]
  },
  {
   "cell_type": "code",
   "execution_count": 137,
   "metadata": {
    "collapsed": false
   },
   "outputs": [
    {
     "name": "stderr",
     "output_type": "stream",
     "text": [
      "//anaconda/lib/python2.7/site-packages/numpy/lib/function_base.py:3403: RuntimeWarning: Invalid value encountered in median\n",
      "  RuntimeWarning)\n"
     ]
    },
    {
     "data": {
      "text/html": [
       "<div>\n",
       "<table border=\"1\" class=\"dataframe\">\n",
       "  <thead>\n",
       "    <tr style=\"text-align: right;\">\n",
       "      <th></th>\n",
       "      <th>RespondentNumber</th>\n",
       "      <th>Location</th>\n",
       "      <th>WORK</th>\n",
       "      <th>HOME</th>\n",
       "      <th>DA</th>\n",
       "      <th>...</th>\n",
       "      <th>Income</th>\n",
       "      <th>Gender</th>\n",
       "      <th>ZONE</th>\n",
       "      <th>AGECO</th>\n",
       "      <th>WEIGHT</th>\n",
       "    </tr>\n",
       "  </thead>\n",
       "  <tbody>\n",
       "    <tr>\n",
       "      <th>count</th>\n",
       "      <td>767.000000</td>\n",
       "      <td>767.000000</td>\n",
       "      <td>375.000000</td>\n",
       "      <td>375.000000</td>\n",
       "      <td>375.000000</td>\n",
       "      <td>...</td>\n",
       "      <td>767.000000</td>\n",
       "      <td>767.00000</td>\n",
       "      <td>375.000000</td>\n",
       "      <td>767.000000</td>\n",
       "      <td>767.000000</td>\n",
       "    </tr>\n",
       "    <tr>\n",
       "      <th>mean</th>\n",
       "      <td>887.331812</td>\n",
       "      <td>6.254237</td>\n",
       "      <td>0.954667</td>\n",
       "      <td>2.045333</td>\n",
       "      <td>1.514667</td>\n",
       "      <td>...</td>\n",
       "      <td>2.946545</td>\n",
       "      <td>1.46545</td>\n",
       "      <td>2.997333</td>\n",
       "      <td>5.946545</td>\n",
       "      <td>1.000000</td>\n",
       "    </tr>\n",
       "    <tr>\n",
       "      <th>std</th>\n",
       "      <td>592.725516</td>\n",
       "      <td>3.097085</td>\n",
       "      <td>1.212931</td>\n",
       "      <td>1.275257</td>\n",
       "      <td>2.241842</td>\n",
       "      <td>...</td>\n",
       "      <td>1.414587</td>\n",
       "      <td>0.49913</td>\n",
       "      <td>1.637624</td>\n",
       "      <td>2.927944</td>\n",
       "      <td>0.094487</td>\n",
       "    </tr>\n",
       "    <tr>\n",
       "      <th>min</th>\n",
       "      <td>2.000000</td>\n",
       "      <td>1.000000</td>\n",
       "      <td>0.000000</td>\n",
       "      <td>0.000000</td>\n",
       "      <td>0.000000</td>\n",
       "      <td>...</td>\n",
       "      <td>1.000000</td>\n",
       "      <td>1.00000</td>\n",
       "      <td>1.000000</td>\n",
       "      <td>1.000000</td>\n",
       "      <td>0.865878</td>\n",
       "    </tr>\n",
       "    <tr>\n",
       "      <th>25%</th>\n",
       "      <td>406.500000</td>\n",
       "      <td>3.000000</td>\n",
       "      <td>NaN</td>\n",
       "      <td>NaN</td>\n",
       "      <td>NaN</td>\n",
       "      <td>...</td>\n",
       "      <td>2.000000</td>\n",
       "      <td>1.00000</td>\n",
       "      <td>NaN</td>\n",
       "      <td>3.000000</td>\n",
       "      <td>0.930278</td>\n",
       "    </tr>\n",
       "    <tr>\n",
       "      <th>50%</th>\n",
       "      <td>815.000000</td>\n",
       "      <td>8.000000</td>\n",
       "      <td>NaN</td>\n",
       "      <td>NaN</td>\n",
       "      <td>NaN</td>\n",
       "      <td>...</td>\n",
       "      <td>3.000000</td>\n",
       "      <td>1.00000</td>\n",
       "      <td>NaN</td>\n",
       "      <td>6.000000</td>\n",
       "      <td>1.043120</td>\n",
       "    </tr>\n",
       "    <tr>\n",
       "      <th>75%</th>\n",
       "      <td>1426.500000</td>\n",
       "      <td>9.000000</td>\n",
       "      <td>NaN</td>\n",
       "      <td>NaN</td>\n",
       "      <td>NaN</td>\n",
       "      <td>...</td>\n",
       "      <td>4.000000</td>\n",
       "      <td>2.00000</td>\n",
       "      <td>NaN</td>\n",
       "      <td>9.000000</td>\n",
       "      <td>1.088087</td>\n",
       "    </tr>\n",
       "    <tr>\n",
       "      <th>max</th>\n",
       "      <td>1924.000000</td>\n",
       "      <td>9.000000</td>\n",
       "      <td>8.000000</td>\n",
       "      <td>8.000000</td>\n",
       "      <td>13.000000</td>\n",
       "      <td>...</td>\n",
       "      <td>5.000000</td>\n",
       "      <td>2.00000</td>\n",
       "      <td>9.000000</td>\n",
       "      <td>10.000000</td>\n",
       "      <td>1.135160</td>\n",
       "    </tr>\n",
       "  </tbody>\n",
       "</table>\n",
       "<p>8 rows × 56 columns</p>\n",
       "</div>"
      ],
      "text/plain": [
       "       RespondentNumber    Location        WORK        HOME          DA  \\\n",
       "count        767.000000  767.000000  375.000000  375.000000  375.000000   \n",
       "mean         887.331812    6.254237    0.954667    2.045333    1.514667   \n",
       "std          592.725516    3.097085    1.212931    1.275257    2.241842   \n",
       "min            2.000000    1.000000    0.000000    0.000000    0.000000   \n",
       "25%          406.500000    3.000000         NaN         NaN         NaN   \n",
       "50%          815.000000    8.000000         NaN         NaN         NaN   \n",
       "75%         1426.500000    9.000000         NaN         NaN         NaN   \n",
       "max         1924.000000    9.000000    8.000000    8.000000   13.000000   \n",
       "\n",
       "          ...          Income     Gender        ZONE       AGECO      WEIGHT  \n",
       "count     ...      767.000000  767.00000  375.000000  767.000000  767.000000  \n",
       "mean      ...        2.946545    1.46545    2.997333    5.946545    1.000000  \n",
       "std       ...        1.414587    0.49913    1.637624    2.927944    0.094487  \n",
       "min       ...        1.000000    1.00000    1.000000    1.000000    0.865878  \n",
       "25%       ...        2.000000    1.00000         NaN    3.000000    0.930278  \n",
       "50%       ...        3.000000    1.00000         NaN    6.000000    1.043120  \n",
       "75%       ...        4.000000    2.00000         NaN    9.000000    1.088087  \n",
       "max       ...        5.000000    2.00000    9.000000   10.000000    1.135160  \n",
       "\n",
       "[8 rows x 56 columns]"
      ]
     },
     "execution_count": 137,
     "metadata": {},
     "output_type": "execute_result"
    }
   ],
   "source": [
    "df.describe()"
   ]
  },
  {
   "cell_type": "code",
   "execution_count": 119,
   "metadata": {
    "collapsed": false
   },
   "outputs": [
    {
     "data": {
      "text/html": [
       "<div>\n",
       "<table border=\"1\" class=\"dataframe\">\n",
       "  <thead>\n",
       "    <tr style=\"text-align: right;\">\n",
       "      <th></th>\n",
       "      <th>RespondentNumber</th>\n",
       "      <th>Location</th>\n",
       "      <th>WORK</th>\n",
       "      <th>HOME</th>\n",
       "      <th>DA</th>\n",
       "      <th>...</th>\n",
       "      <th>Income</th>\n",
       "      <th>Gender</th>\n",
       "      <th>ZONE</th>\n",
       "      <th>AGECO</th>\n",
       "      <th>WEIGHT</th>\n",
       "    </tr>\n",
       "  </thead>\n",
       "  <tbody>\n",
       "    <tr>\n",
       "      <th>RespondentNumber</th>\n",
       "      <td>1.000000</td>\n",
       "      <td>0.016491</td>\n",
       "      <td>-0.065795</td>\n",
       "      <td>-0.032020</td>\n",
       "      <td>-0.034172</td>\n",
       "      <td>...</td>\n",
       "      <td>-0.024326</td>\n",
       "      <td>0.007275</td>\n",
       "      <td>0.029722</td>\n",
       "      <td>0.040759</td>\n",
       "      <td>-0.025486</td>\n",
       "    </tr>\n",
       "    <tr>\n",
       "      <th>Location</th>\n",
       "      <td>0.016491</td>\n",
       "      <td>1.000000</td>\n",
       "      <td>NaN</td>\n",
       "      <td>NaN</td>\n",
       "      <td>NaN</td>\n",
       "      <td>...</td>\n",
       "      <td>-0.101187</td>\n",
       "      <td>0.085496</td>\n",
       "      <td>NaN</td>\n",
       "      <td>-0.744379</td>\n",
       "      <td>-0.019309</td>\n",
       "    </tr>\n",
       "    <tr>\n",
       "      <th>WORK</th>\n",
       "      <td>-0.065795</td>\n",
       "      <td>NaN</td>\n",
       "      <td>1.000000</td>\n",
       "      <td>0.060105</td>\n",
       "      <td>0.217064</td>\n",
       "      <td>...</td>\n",
       "      <td>0.182311</td>\n",
       "      <td>-0.084247</td>\n",
       "      <td>-0.000061</td>\n",
       "      <td>-0.071567</td>\n",
       "      <td>-0.101878</td>\n",
       "    </tr>\n",
       "    <tr>\n",
       "      <th>HOME</th>\n",
       "      <td>-0.032020</td>\n",
       "      <td>NaN</td>\n",
       "      <td>0.060105</td>\n",
       "      <td>1.000000</td>\n",
       "      <td>0.300448</td>\n",
       "      <td>...</td>\n",
       "      <td>0.116378</td>\n",
       "      <td>-0.121089</td>\n",
       "      <td>-0.080602</td>\n",
       "      <td>-0.059011</td>\n",
       "      <td>-0.084258</td>\n",
       "    </tr>\n",
       "    <tr>\n",
       "      <th>DA</th>\n",
       "      <td>-0.034172</td>\n",
       "      <td>NaN</td>\n",
       "      <td>0.217064</td>\n",
       "      <td>0.300448</td>\n",
       "      <td>1.000000</td>\n",
       "      <td>...</td>\n",
       "      <td>0.185105</td>\n",
       "      <td>-0.102240</td>\n",
       "      <td>0.074661</td>\n",
       "      <td>0.031170</td>\n",
       "      <td>-0.078441</td>\n",
       "    </tr>\n",
       "    <tr>\n",
       "      <th>...</th>\n",
       "      <td>...</td>\n",
       "      <td>...</td>\n",
       "      <td>...</td>\n",
       "      <td>...</td>\n",
       "      <td>...</td>\n",
       "      <td>...</td>\n",
       "      <td>...</td>\n",
       "      <td>...</td>\n",
       "      <td>...</td>\n",
       "      <td>...</td>\n",
       "      <td>...</td>\n",
       "    </tr>\n",
       "    <tr>\n",
       "      <th>Income</th>\n",
       "      <td>-0.024326</td>\n",
       "      <td>-0.101187</td>\n",
       "      <td>0.182311</td>\n",
       "      <td>0.116378</td>\n",
       "      <td>0.185105</td>\n",
       "      <td>...</td>\n",
       "      <td>1.000000</td>\n",
       "      <td>-0.049768</td>\n",
       "      <td>-0.062830</td>\n",
       "      <td>0.198827</td>\n",
       "      <td>-0.151532</td>\n",
       "    </tr>\n",
       "    <tr>\n",
       "      <th>Gender</th>\n",
       "      <td>0.007275</td>\n",
       "      <td>0.085496</td>\n",
       "      <td>-0.084247</td>\n",
       "      <td>-0.121089</td>\n",
       "      <td>-0.102240</td>\n",
       "      <td>...</td>\n",
       "      <td>-0.049768</td>\n",
       "      <td>1.000000</td>\n",
       "      <td>0.050673</td>\n",
       "      <td>-0.077642</td>\n",
       "      <td>-0.053288</td>\n",
       "    </tr>\n",
       "    <tr>\n",
       "      <th>ZONE</th>\n",
       "      <td>0.029722</td>\n",
       "      <td>NaN</td>\n",
       "      <td>-0.000061</td>\n",
       "      <td>-0.080602</td>\n",
       "      <td>0.074661</td>\n",
       "      <td>...</td>\n",
       "      <td>-0.062830</td>\n",
       "      <td>0.050673</td>\n",
       "      <td>1.000000</td>\n",
       "      <td>-0.000846</td>\n",
       "      <td>0.015433</td>\n",
       "    </tr>\n",
       "    <tr>\n",
       "      <th>AGECO</th>\n",
       "      <td>0.040759</td>\n",
       "      <td>-0.744379</td>\n",
       "      <td>-0.071567</td>\n",
       "      <td>-0.059011</td>\n",
       "      <td>0.031170</td>\n",
       "      <td>...</td>\n",
       "      <td>0.198827</td>\n",
       "      <td>-0.077642</td>\n",
       "      <td>-0.000846</td>\n",
       "      <td>1.000000</td>\n",
       "      <td>-0.145661</td>\n",
       "    </tr>\n",
       "    <tr>\n",
       "      <th>WEIGHT</th>\n",
       "      <td>-0.025486</td>\n",
       "      <td>-0.019309</td>\n",
       "      <td>-0.101878</td>\n",
       "      <td>-0.084258</td>\n",
       "      <td>-0.078441</td>\n",
       "      <td>...</td>\n",
       "      <td>-0.151532</td>\n",
       "      <td>-0.053288</td>\n",
       "      <td>0.015433</td>\n",
       "      <td>-0.145661</td>\n",
       "      <td>1.000000</td>\n",
       "    </tr>\n",
       "  </tbody>\n",
       "</table>\n",
       "<p>56 rows × 56 columns</p>\n",
       "</div>"
      ],
      "text/plain": [
       "                  RespondentNumber  Location      WORK      HOME        DA  \\\n",
       "RespondentNumber          1.000000  0.016491 -0.065795 -0.032020 -0.034172   \n",
       "Location                  0.016491  1.000000       NaN       NaN       NaN   \n",
       "WORK                     -0.065795       NaN  1.000000  0.060105  0.217064   \n",
       "HOME                     -0.032020       NaN  0.060105  1.000000  0.300448   \n",
       "DA                       -0.034172       NaN  0.217064  0.300448  1.000000   \n",
       "...                            ...       ...       ...       ...       ...   \n",
       "Income                   -0.024326 -0.101187  0.182311  0.116378  0.185105   \n",
       "Gender                    0.007275  0.085496 -0.084247 -0.121089 -0.102240   \n",
       "ZONE                      0.029722       NaN -0.000061 -0.080602  0.074661   \n",
       "AGECO                     0.040759 -0.744379 -0.071567 -0.059011  0.031170   \n",
       "WEIGHT                   -0.025486 -0.019309 -0.101878 -0.084258 -0.078441   \n",
       "\n",
       "                    ...       Income    Gender      ZONE     AGECO    WEIGHT  \n",
       "RespondentNumber    ...    -0.024326  0.007275  0.029722  0.040759 -0.025486  \n",
       "Location            ...    -0.101187  0.085496       NaN -0.744379 -0.019309  \n",
       "WORK                ...     0.182311 -0.084247 -0.000061 -0.071567 -0.101878  \n",
       "HOME                ...     0.116378 -0.121089 -0.080602 -0.059011 -0.084258  \n",
       "DA                  ...     0.185105 -0.102240  0.074661  0.031170 -0.078441  \n",
       "...                 ...          ...       ...       ...       ...       ...  \n",
       "Income              ...     1.000000 -0.049768 -0.062830  0.198827 -0.151532  \n",
       "Gender              ...    -0.049768  1.000000  0.050673 -0.077642 -0.053288  \n",
       "ZONE                ...    -0.062830  0.050673  1.000000 -0.000846  0.015433  \n",
       "AGECO               ...     0.198827 -0.077642 -0.000846  1.000000 -0.145661  \n",
       "WEIGHT              ...    -0.151532 -0.053288  0.015433 -0.145661  1.000000  \n",
       "\n",
       "[56 rows x 56 columns]"
      ]
     },
     "execution_count": 119,
     "metadata": {},
     "output_type": "execute_result"
    }
   ],
   "source": [
    "df.corr()"
   ]
  },
  {
   "cell_type": "markdown",
   "metadata": {},
   "source": [
    "### Recode all yes/no categorical variables with 0 as the most frequent value (then also append \"_no\" to the variable name), and 1 for the other"
   ]
  },
  {
   "cell_type": "code",
   "execution_count": 13,
   "metadata": {
    "collapsed": false
   },
   "outputs": [
    {
     "data": {
      "text/plain": [
       "9    375\n",
       "5    104\n",
       "1     90\n",
       "2     76\n",
       "6     46\n",
       "3     38\n",
       "8     19\n",
       "7     14\n",
       "4      5\n",
       "Name: Q2, dtype: int64"
      ]
     },
     "execution_count": 13,
     "metadata": {},
     "output_type": "execute_result"
    }
   ],
   "source": [
    "df.Q2.value_counts()"
   ]
  },
  {
   "cell_type": "code",
   "execution_count": 7,
   "metadata": {
    "collapsed": false
   },
   "outputs": [
    {
     "data": {
      "text/html": [
       "<div>\n",
       "<table border=\"1\" class=\"dataframe\">\n",
       "  <thead>\n",
       "    <tr style=\"text-align: right;\">\n",
       "      <th></th>\n",
       "      <th>Q5_TOTAL</th>\n",
       "      <th>Q4AP</th>\n",
       "    </tr>\n",
       "  </thead>\n",
       "  <tbody>\n",
       "    <tr>\n",
       "      <th>0</th>\n",
       "      <td>0.0</td>\n",
       "      <td>3.0</td>\n",
       "    </tr>\n",
       "    <tr>\n",
       "      <th>1</th>\n",
       "      <td>5.0</td>\n",
       "      <td>1.0</td>\n",
       "    </tr>\n",
       "    <tr>\n",
       "      <th>2</th>\n",
       "      <td>NaN</td>\n",
       "      <td>NaN</td>\n",
       "    </tr>\n",
       "    <tr>\n",
       "      <th>3</th>\n",
       "      <td>NaN</td>\n",
       "      <td>NaN</td>\n",
       "    </tr>\n",
       "    <tr>\n",
       "      <th>4</th>\n",
       "      <td>2.0</td>\n",
       "      <td>4.0</td>\n",
       "    </tr>\n",
       "    <tr>\n",
       "      <th>...</th>\n",
       "      <td>...</td>\n",
       "      <td>...</td>\n",
       "    </tr>\n",
       "    <tr>\n",
       "      <th>762</th>\n",
       "      <td>2.0</td>\n",
       "      <td>4.0</td>\n",
       "    </tr>\n",
       "    <tr>\n",
       "      <th>763</th>\n",
       "      <td>5.0</td>\n",
       "      <td>4.0</td>\n",
       "    </tr>\n",
       "    <tr>\n",
       "      <th>764</th>\n",
       "      <td>0.0</td>\n",
       "      <td>4.0</td>\n",
       "    </tr>\n",
       "    <tr>\n",
       "      <th>765</th>\n",
       "      <td>3.0</td>\n",
       "      <td>4.0</td>\n",
       "    </tr>\n",
       "    <tr>\n",
       "      <th>766</th>\n",
       "      <td>7.0</td>\n",
       "      <td>3.0</td>\n",
       "    </tr>\n",
       "  </tbody>\n",
       "</table>\n",
       "<p>767 rows × 2 columns</p>\n",
       "</div>"
      ],
      "text/plain": [
       "     Q5_TOTAL  Q4AP\n",
       "0         0.0   3.0\n",
       "1         5.0   1.0\n",
       "2         NaN   NaN\n",
       "3         NaN   NaN\n",
       "4         2.0   4.0\n",
       "..        ...   ...\n",
       "762       2.0   4.0\n",
       "763       5.0   4.0\n",
       "764       0.0   4.0\n",
       "765       3.0   4.0\n",
       "766       7.0   3.0\n",
       "\n",
       "[767 rows x 2 columns]"
      ]
     },
     "execution_count": 7,
     "metadata": {},
     "output_type": "execute_result"
    }
   ],
   "source": [
    "df[ [5, 6] ]"
   ]
  },
  {
   "cell_type": "code",
   "execution_count": 8,
   "metadata": {
    "collapsed": false
   },
   "outputs": [
    {
     "data": {
      "text/plain": [
       "pandas.core.frame.DataFrame"
      ]
     },
     "execution_count": 8,
     "metadata": {},
     "output_type": "execute_result"
    }
   ],
   "source": [
    "type(df[ [5, 6] ])"
   ]
  },
  {
   "cell_type": "code",
   "execution_count": 10,
   "metadata": {
    "collapsed": false
   },
   "outputs": [
    {
     "data": {
      "text/html": [
       "<div>\n",
       "<table border=\"1\" class=\"dataframe\">\n",
       "  <thead>\n",
       "    <tr style=\"text-align: right;\">\n",
       "      <th></th>\n",
       "      <th>RESP_NUM</th>\n",
       "      <th>Q2</th>\n",
       "    </tr>\n",
       "  </thead>\n",
       "  <tbody>\n",
       "    <tr>\n",
       "      <th>0</th>\n",
       "      <td>2.0</td>\n",
       "      <td>9</td>\n",
       "    </tr>\n",
       "    <tr>\n",
       "      <th>1</th>\n",
       "      <td>3.0</td>\n",
       "      <td>9</td>\n",
       "    </tr>\n",
       "    <tr>\n",
       "      <th>2</th>\n",
       "      <td>4.0</td>\n",
       "      <td>1</td>\n",
       "    </tr>\n",
       "    <tr>\n",
       "      <th>3</th>\n",
       "      <td>5.0</td>\n",
       "      <td>3</td>\n",
       "    </tr>\n",
       "    <tr>\n",
       "      <th>4</th>\n",
       "      <td>6.0</td>\n",
       "      <td>9</td>\n",
       "    </tr>\n",
       "    <tr>\n",
       "      <th>...</th>\n",
       "      <td>...</td>\n",
       "      <td>...</td>\n",
       "    </tr>\n",
       "    <tr>\n",
       "      <th>762</th>\n",
       "      <td>1920.0</td>\n",
       "      <td>9</td>\n",
       "    </tr>\n",
       "    <tr>\n",
       "      <th>763</th>\n",
       "      <td>1921.0</td>\n",
       "      <td>9</td>\n",
       "    </tr>\n",
       "    <tr>\n",
       "      <th>764</th>\n",
       "      <td>1922.0</td>\n",
       "      <td>9</td>\n",
       "    </tr>\n",
       "    <tr>\n",
       "      <th>765</th>\n",
       "      <td>1923.0</td>\n",
       "      <td>9</td>\n",
       "    </tr>\n",
       "    <tr>\n",
       "      <th>766</th>\n",
       "      <td>1924.0</td>\n",
       "      <td>9</td>\n",
       "    </tr>\n",
       "  </tbody>\n",
       "</table>\n",
       "<p>767 rows × 2 columns</p>\n",
       "</div>"
      ],
      "text/plain": [
       "     RESP_NUM  Q2\n",
       "0         2.0   9\n",
       "1         3.0   9\n",
       "2         4.0   1\n",
       "3         5.0   3\n",
       "4         6.0   9\n",
       "..        ...  ..\n",
       "762    1920.0   9\n",
       "763    1921.0   9\n",
       "764    1922.0   9\n",
       "765    1923.0   9\n",
       "766    1924.0   9\n",
       "\n",
       "[767 rows x 2 columns]"
      ]
     },
     "execution_count": 10,
     "metadata": {},
     "output_type": "execute_result"
    }
   ],
   "source": [
    "df[ ['RESP_NUM', 'Q2'] ]"
   ]
  },
  {
   "cell_type": "markdown",
   "metadata": {},
   "source": [
    "### Tidying up the Sale Price: Converting all numbers to dollars"
   ]
  },
  {
   "cell_type": "code",
   "execution_count": 5,
   "metadata": {
    "collapsed": false
   },
   "outputs": [
    {
     "ename": "SyntaxError",
     "evalue": "invalid syntax (<ipython-input-5-d3624b0d5898>, line 1)",
     "output_type": "error",
     "traceback": [
      "\u001b[0;36m  File \u001b[0;32m\"<ipython-input-5-d3624b0d5898>\"\u001b[0;36m, line \u001b[0;32m1\u001b[0m\n\u001b[0;31m    Linear Regression- SF Salaries / Logit Regression - TDS -- Desicion Tree Random Forests\u001b[0m\n\u001b[0m                    ^\u001b[0m\n\u001b[0;31mSyntaxError\u001b[0m\u001b[0;31m:\u001b[0m invalid syntax\n"
     ]
    }
   ],
   "source": [
    "Linear Regression- SF Salaries / Logit Regression - TDS -- Desicion Tree Random Forests"
   ]
  },
  {
   "cell_type": "code",
   "execution_count": 8,
   "metadata": {
    "collapsed": true
   },
   "outputs": [],
   "source": [
    "X = df[ ['Q4_TOTAL', 'Q2', 'Q3', 'TRIPS'] ]"
   ]
  },
  {
   "cell_type": "code",
   "execution_count": 6,
   "metadata": {
    "collapsed": true
   },
   "outputs": [],
   "source": [
    "ys = pd.get_dummies(df.Q4_TOTAL, prefix = None)"
   ]
  },
  {
   "cell_type": "code",
   "execution_count": 7,
   "metadata": {
    "collapsed": false
   },
   "outputs": [
    {
     "data": {
      "text/html": [
       "<div>\n",
       "<table border=\"1\" class=\"dataframe\">\n",
       "  <thead>\n",
       "    <tr style=\"text-align: right;\">\n",
       "      <th></th>\n",
       "      <th>0.0</th>\n",
       "      <th>1.0</th>\n",
       "      <th>2.0</th>\n",
       "      <th>3.0</th>\n",
       "      <th>4.0</th>\n",
       "      <th>...</th>\n",
       "      <th>6.0</th>\n",
       "      <th>7.0</th>\n",
       "      <th>8.0</th>\n",
       "      <th>10.0</th>\n",
       "      <th>15.0</th>\n",
       "    </tr>\n",
       "  </thead>\n",
       "  <tbody>\n",
       "    <tr>\n",
       "      <th>0</th>\n",
       "      <td>0.0</td>\n",
       "      <td>0.0</td>\n",
       "      <td>1.0</td>\n",
       "      <td>0.0</td>\n",
       "      <td>0.0</td>\n",
       "      <td>...</td>\n",
       "      <td>0.0</td>\n",
       "      <td>0.0</td>\n",
       "      <td>0.0</td>\n",
       "      <td>0.0</td>\n",
       "      <td>0.0</td>\n",
       "    </tr>\n",
       "    <tr>\n",
       "      <th>1</th>\n",
       "      <td>0.0</td>\n",
       "      <td>0.0</td>\n",
       "      <td>0.0</td>\n",
       "      <td>0.0</td>\n",
       "      <td>0.0</td>\n",
       "      <td>...</td>\n",
       "      <td>1.0</td>\n",
       "      <td>0.0</td>\n",
       "      <td>0.0</td>\n",
       "      <td>0.0</td>\n",
       "      <td>0.0</td>\n",
       "    </tr>\n",
       "    <tr>\n",
       "      <th>2</th>\n",
       "      <td>0.0</td>\n",
       "      <td>0.0</td>\n",
       "      <td>0.0</td>\n",
       "      <td>0.0</td>\n",
       "      <td>0.0</td>\n",
       "      <td>...</td>\n",
       "      <td>0.0</td>\n",
       "      <td>0.0</td>\n",
       "      <td>0.0</td>\n",
       "      <td>0.0</td>\n",
       "      <td>0.0</td>\n",
       "    </tr>\n",
       "    <tr>\n",
       "      <th>3</th>\n",
       "      <td>0.0</td>\n",
       "      <td>0.0</td>\n",
       "      <td>0.0</td>\n",
       "      <td>0.0</td>\n",
       "      <td>0.0</td>\n",
       "      <td>...</td>\n",
       "      <td>0.0</td>\n",
       "      <td>0.0</td>\n",
       "      <td>0.0</td>\n",
       "      <td>0.0</td>\n",
       "      <td>0.0</td>\n",
       "    </tr>\n",
       "    <tr>\n",
       "      <th>4</th>\n",
       "      <td>0.0</td>\n",
       "      <td>0.0</td>\n",
       "      <td>0.0</td>\n",
       "      <td>0.0</td>\n",
       "      <td>1.0</td>\n",
       "      <td>...</td>\n",
       "      <td>0.0</td>\n",
       "      <td>0.0</td>\n",
       "      <td>0.0</td>\n",
       "      <td>0.0</td>\n",
       "      <td>0.0</td>\n",
       "    </tr>\n",
       "    <tr>\n",
       "      <th>...</th>\n",
       "      <td>...</td>\n",
       "      <td>...</td>\n",
       "      <td>...</td>\n",
       "      <td>...</td>\n",
       "      <td>...</td>\n",
       "      <td>...</td>\n",
       "      <td>...</td>\n",
       "      <td>...</td>\n",
       "      <td>...</td>\n",
       "      <td>...</td>\n",
       "      <td>...</td>\n",
       "    </tr>\n",
       "    <tr>\n",
       "      <th>762</th>\n",
       "      <td>0.0</td>\n",
       "      <td>0.0</td>\n",
       "      <td>0.0</td>\n",
       "      <td>0.0</td>\n",
       "      <td>1.0</td>\n",
       "      <td>...</td>\n",
       "      <td>0.0</td>\n",
       "      <td>0.0</td>\n",
       "      <td>0.0</td>\n",
       "      <td>0.0</td>\n",
       "      <td>0.0</td>\n",
       "    </tr>\n",
       "    <tr>\n",
       "      <th>763</th>\n",
       "      <td>0.0</td>\n",
       "      <td>0.0</td>\n",
       "      <td>0.0</td>\n",
       "      <td>0.0</td>\n",
       "      <td>1.0</td>\n",
       "      <td>...</td>\n",
       "      <td>0.0</td>\n",
       "      <td>0.0</td>\n",
       "      <td>0.0</td>\n",
       "      <td>0.0</td>\n",
       "      <td>0.0</td>\n",
       "    </tr>\n",
       "    <tr>\n",
       "      <th>764</th>\n",
       "      <td>0.0</td>\n",
       "      <td>0.0</td>\n",
       "      <td>0.0</td>\n",
       "      <td>0.0</td>\n",
       "      <td>0.0</td>\n",
       "      <td>...</td>\n",
       "      <td>0.0</td>\n",
       "      <td>0.0</td>\n",
       "      <td>0.0</td>\n",
       "      <td>0.0</td>\n",
       "      <td>0.0</td>\n",
       "    </tr>\n",
       "    <tr>\n",
       "      <th>765</th>\n",
       "      <td>0.0</td>\n",
       "      <td>0.0</td>\n",
       "      <td>0.0</td>\n",
       "      <td>0.0</td>\n",
       "      <td>1.0</td>\n",
       "      <td>...</td>\n",
       "      <td>0.0</td>\n",
       "      <td>0.0</td>\n",
       "      <td>0.0</td>\n",
       "      <td>0.0</td>\n",
       "      <td>0.0</td>\n",
       "    </tr>\n",
       "    <tr>\n",
       "      <th>766</th>\n",
       "      <td>0.0</td>\n",
       "      <td>0.0</td>\n",
       "      <td>0.0</td>\n",
       "      <td>1.0</td>\n",
       "      <td>0.0</td>\n",
       "      <td>...</td>\n",
       "      <td>0.0</td>\n",
       "      <td>0.0</td>\n",
       "      <td>0.0</td>\n",
       "      <td>0.0</td>\n",
       "      <td>0.0</td>\n",
       "    </tr>\n",
       "  </tbody>\n",
       "</table>\n",
       "<p>767 rows × 11 columns</p>\n",
       "</div>"
      ],
      "text/plain": [
       "     0.0   1.0   2.0   3.0   4.0   ...   6.0   7.0   8.0   10.0  15.0\n",
       "0     0.0   0.0   1.0   0.0   0.0  ...    0.0   0.0   0.0   0.0   0.0\n",
       "1     0.0   0.0   0.0   0.0   0.0  ...    1.0   0.0   0.0   0.0   0.0\n",
       "2     0.0   0.0   0.0   0.0   0.0  ...    0.0   0.0   0.0   0.0   0.0\n",
       "3     0.0   0.0   0.0   0.0   0.0  ...    0.0   0.0   0.0   0.0   0.0\n",
       "4     0.0   0.0   0.0   0.0   1.0  ...    0.0   0.0   0.0   0.0   0.0\n",
       "..    ...   ...   ...   ...   ...  ...    ...   ...   ...   ...   ...\n",
       "762   0.0   0.0   0.0   0.0   1.0  ...    0.0   0.0   0.0   0.0   0.0\n",
       "763   0.0   0.0   0.0   0.0   1.0  ...    0.0   0.0   0.0   0.0   0.0\n",
       "764   0.0   0.0   0.0   0.0   0.0  ...    0.0   0.0   0.0   0.0   0.0\n",
       "765   0.0   0.0   0.0   0.0   1.0  ...    0.0   0.0   0.0   0.0   0.0\n",
       "766   0.0   0.0   0.0   1.0   0.0  ...    0.0   0.0   0.0   0.0   0.0\n",
       "\n",
       "[767 rows x 11 columns]"
      ]
     },
     "execution_count": 7,
     "metadata": {},
     "output_type": "execute_result"
    }
   ],
   "source": [
    "ys"
   ]
  },
  {
   "cell_type": "code",
   "execution_count": 13,
   "metadata": {
    "collapsed": false
   },
   "outputs": [
    {
     "ename": "AttributeError",
     "evalue": "'DataFrame' object has no attribute 'Q4_TOTAL'",
     "output_type": "error",
     "traceback": [
      "\u001b[0;31m---------------------------------------------------------------------------\u001b[0m",
      "\u001b[0;31mAttributeError\u001b[0m                            Traceback (most recent call last)",
      "\u001b[0;32m<ipython-input-13-cbf431243334>\u001b[0m in \u001b[0;36m<module>\u001b[0;34m()\u001b[0m\n\u001b[1;32m      1\u001b[0m \u001b[0mmodel_Zone\u001b[0m \u001b[0;34m=\u001b[0m \u001b[0mlinear_model\u001b[0m\u001b[0;34m.\u001b[0m\u001b[0mLogisticRegression\u001b[0m\u001b[0;34m(\u001b[0m\u001b[0;34m)\u001b[0m\u001b[0;34m\u001b[0m\u001b[0m\n\u001b[1;32m      2\u001b[0m \u001b[0;34m\u001b[0m\u001b[0m\n\u001b[0;32m----> 3\u001b[0;31m \u001b[0mmodel_Zone\u001b[0m\u001b[0;34m.\u001b[0m\u001b[0mfit\u001b[0m\u001b[0;34m(\u001b[0m\u001b[0mX\u001b[0m\u001b[0;34m,\u001b[0m \u001b[0mys\u001b[0m\u001b[0;34m.\u001b[0m\u001b[0mQ4_TOTAL\u001b[0m\u001b[0;34m)\u001b[0m\u001b[0;34m\u001b[0m\u001b[0m\n\u001b[0m\u001b[1;32m      4\u001b[0m \u001b[0;34m\u001b[0m\u001b[0m\n\u001b[1;32m      5\u001b[0m \u001b[0;32mprint\u001b[0m \u001b[0mmodel_Zone\u001b[0m\u001b[0;34m.\u001b[0m\u001b[0mcoef_\u001b[0m\u001b[0;34m\u001b[0m\u001b[0m\n",
      "\u001b[0;32m//anaconda/lib/python2.7/site-packages/pandas/core/generic.pyc\u001b[0m in \u001b[0;36m__getattr__\u001b[0;34m(self, name)\u001b[0m\n\u001b[1;32m   2670\u001b[0m             \u001b[0;32mif\u001b[0m \u001b[0mname\u001b[0m \u001b[0;32min\u001b[0m \u001b[0mself\u001b[0m\u001b[0;34m.\u001b[0m\u001b[0m_info_axis\u001b[0m\u001b[0;34m:\u001b[0m\u001b[0;34m\u001b[0m\u001b[0m\n\u001b[1;32m   2671\u001b[0m                 \u001b[0;32mreturn\u001b[0m \u001b[0mself\u001b[0m\u001b[0;34m[\u001b[0m\u001b[0mname\u001b[0m\u001b[0;34m]\u001b[0m\u001b[0;34m\u001b[0m\u001b[0m\n\u001b[0;32m-> 2672\u001b[0;31m             \u001b[0;32mreturn\u001b[0m \u001b[0mobject\u001b[0m\u001b[0;34m.\u001b[0m\u001b[0m__getattribute__\u001b[0m\u001b[0;34m(\u001b[0m\u001b[0mself\u001b[0m\u001b[0;34m,\u001b[0m \u001b[0mname\u001b[0m\u001b[0;34m)\u001b[0m\u001b[0;34m\u001b[0m\u001b[0m\n\u001b[0m\u001b[1;32m   2673\u001b[0m \u001b[0;34m\u001b[0m\u001b[0m\n\u001b[1;32m   2674\u001b[0m     \u001b[0;32mdef\u001b[0m \u001b[0m__setattr__\u001b[0m\u001b[0;34m(\u001b[0m\u001b[0mself\u001b[0m\u001b[0;34m,\u001b[0m \u001b[0mname\u001b[0m\u001b[0;34m,\u001b[0m \u001b[0mvalue\u001b[0m\u001b[0;34m)\u001b[0m\u001b[0;34m:\u001b[0m\u001b[0;34m\u001b[0m\u001b[0m\n",
      "\u001b[0;31mAttributeError\u001b[0m: 'DataFrame' object has no attribute 'Q4_TOTAL'"
     ]
    }
   ],
   "source": [
    "model_Zone = linear_model.LogisticRegression()\n",
    "\n",
    "model_Zone.fit(X, ys.Q4_TOTAL)\n",
    "\n",
    "print model_Zone.coef_\n",
    "print model_Zone.intercept_"
   ]
  },
  {
   "cell_type": "code",
   "execution_count": null,
   "metadata": {
    "collapsed": true
   },
   "outputs": [],
   "source": [
    "level_2 = ((df.Q4_TOTAL > df.Q4_TOTAL.quantile(.2)) & (df.Q4_TOTAL <= df.Q4_TOTAL.quantile(.5)))\n",
    "level_3 = ((df.Q4_TOTAL > df.Q4_TOTAL.quantile(.5)) & (df.Q4_TOTAL <= df.Q4_TOTAL.quantile(.8)))\n",
    "level_4 = (df.Q4_TOTAL > df.Q4_TOTAL.quantile(.8))\n",
    "\n",
    "df['Q4_TOTAL_Category'] = '1'\n",
    "df.loc[level_2, 'Q4_TOTAL_Category'] = '2'\n",
    "df.loc[level_3, 'Q4_TOTAL_Category'] = '3'\n",
    "df.loc[level_4, 'Q4_TOTAL_Category'] = '4'"
   ]
  },
  {
   "cell_type": "code",
   "execution_count": 27,
   "metadata": {
    "collapsed": true
   },
   "outputs": [],
   "source": [
    "color = df.Q4_TOTAL.map(pd.Series({'2.0': 'red', '4.0': 'green', '6.0': 'blue'}))"
   ]
  },
  {
   "cell_type": "code",
   "execution_count": 28,
   "metadata": {
    "collapsed": false
   },
   "outputs": [
    {
     "data": {
      "text/plain": [
       "<matplotlib.axes._subplots.AxesSubplot at 0x103d45f90>"
      ]
     },
     "execution_count": 28,
     "metadata": {},
     "output_type": "execute_result"
    },
    {
     "data": {
      "image/png": "[encoded data removed]",
      "text/plain": [
       "<matplotlib.figure.Figure at 0x103d9c750>"
      ]
     },
     "metadata": {},
     "output_type": "display_data"
    }
   ],
   "source": [
    "df.plot('AGECO', 'WEIGHT', kind = 'scatter', c = color)"
   ]
  },
  {
   "cell_type": "code",
   "execution_count": null,
   "metadata": {
    "collapsed": true
   },
   "outputs": [],
   "source": []
  }
 ],
 "metadata": {
  "kernelspec": {
   "display_name": "Python 2",
   "language": "python",
   "name": "python2"
  },
  "language_info": {
   "codemirror_mode": {
    "name": "ipython",
    "version": 2
   },
   "file_extension": ".py",
   "mimetype": "text/x-python",
   "name": "python",
   "nbconvert_exporter": "python",
   "pygments_lexer": "ipython2",
   "version": "2.7.11"
  }
 },
 "nbformat": 4,
 "nbformat_minor": 0
}
