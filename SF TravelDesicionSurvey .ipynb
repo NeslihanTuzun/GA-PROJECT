{
 "cells": [
  {
   "cell_type": "markdown",
   "metadata": {
    "collapsed": true
   },
   "source": [
    "# Supervised Learning:  The Waze Carpool - SF Pilot\n",
    "- In this project, I'm trying to build machine learning models based on Kaggle and SMFTA's data: I came up with WAZE Rider San Francisco Pilot to study features of a carpool modelling and make prdedictions that could help the business.\n",
    "Waze is going the corporate route. The pilot is starting with more than 25,000 employees of select companies that schlep workers from city.\n",
    "\n",
    "Commute choice: dataset about carpool desicions, e.g., drive alone, car share, shuttle, uber, public transportation\n",
    "Location: information about users location\n",
    "Income: total income"
   ]
  },
  {
   "cell_type": "code",
   "execution_count": 49,
   "metadata": {
    "collapsed": true
   },
   "outputs": [],
   "source": [
    "import os\n",
    "import numpy as np\n",
    "import pandas as pd\n",
    "import csv\n",
    "import matplotlib.pyplot as plt\n",
    "import statsmodels.api as sm\n",
    "import statsmodels.formula.api as smf\n",
    "import seaborn as sns\n",
    "from sklearn import linear_model, cross_validation\n",
    "\n",
    "pd.set_option('display.max_rows', 10)\n",
    "pd.set_option('display.notebook_repr_html', True)\n",
    "pd.set_option('display.max_columns', 10)\n",
    "\n",
    "%matplotlib inline\n",
    "plt.style.use('ggplot')"
   ]
  },
  {
   "cell_type": "code",
   "execution_count": 50,
   "metadata": {
    "collapsed": false
   },
   "outputs": [],
   "source": [
    "df = pd.read_csv(os.path.join('..', 'FinalProject-GA', 'TDS_Data1.csv'))"
   ]
  },
  {
   "cell_type": "markdown",
   "metadata": {},
   "source": [
    "## The Dataset"
   ]
  },
  {
   "cell_type": "code",
   "execution_count": 51,
   "metadata": {
    "collapsed": false
   },
   "outputs": [
    {
     "data": {
      "text/html": [
       "<div>\n",
       "<table border=\"1\" class=\"dataframe\">\n",
       "  <thead>\n",
       "    <tr style=\"text-align: right;\">\n",
       "      <th></th>\n",
       "      <th>RESP_NUM</th>\n",
       "      <th>Q2</th>\n",
       "      <th>Q3</th>\n",
       "      <th>TRIPS</th>\n",
       "      <th>Q4_TOTAL</th>\n",
       "      <th>...</th>\n",
       "      <th>ZONE</th>\n",
       "      <th>INTERVIEW_DAY</th>\n",
       "      <th>INTERVIEW_DATE</th>\n",
       "      <th>AGECO</th>\n",
       "      <th>WEIGHT</th>\n",
       "    </tr>\n",
       "  </thead>\n",
       "  <tbody>\n",
       "    <tr>\n",
       "      <th>0</th>\n",
       "      <td>2.0</td>\n",
       "      <td>9</td>\n",
       "      <td>NaN</td>\n",
       "      <td>2</td>\n",
       "      <td>2.0</td>\n",
       "      <td>...</td>\n",
       "      <td>5.0</td>\n",
       "      <td>2</td>\n",
       "      <td>10/6/2014</td>\n",
       "      <td>1</td>\n",
       "      <td>1.043120</td>\n",
       "    </tr>\n",
       "    <tr>\n",
       "      <th>1</th>\n",
       "      <td>3.0</td>\n",
       "      <td>9</td>\n",
       "      <td>NaN</td>\n",
       "      <td>11</td>\n",
       "      <td>6.0</td>\n",
       "      <td>...</td>\n",
       "      <td>5.0</td>\n",
       "      <td>2</td>\n",
       "      <td>10/6/2014</td>\n",
       "      <td>2</td>\n",
       "      <td>1.115464</td>\n",
       "    </tr>\n",
       "    <tr>\n",
       "      <th>2</th>\n",
       "      <td>4.0</td>\n",
       "      <td>1</td>\n",
       "      <td>1.0</td>\n",
       "      <td>214</td>\n",
       "      <td>NaN</td>\n",
       "      <td>...</td>\n",
       "      <td>NaN</td>\n",
       "      <td>2</td>\n",
       "      <td>10/6/2014</td>\n",
       "      <td>7</td>\n",
       "      <td>1.048985</td>\n",
       "    </tr>\n",
       "    <tr>\n",
       "      <th>3</th>\n",
       "      <td>5.0</td>\n",
       "      <td>3</td>\n",
       "      <td>1.0</td>\n",
       "      <td>594</td>\n",
       "      <td>NaN</td>\n",
       "      <td>...</td>\n",
       "      <td>NaN</td>\n",
       "      <td>2</td>\n",
       "      <td>10/6/2014</td>\n",
       "      <td>10</td>\n",
       "      <td>0.930278</td>\n",
       "    </tr>\n",
       "    <tr>\n",
       "      <th>4</th>\n",
       "      <td>6.0</td>\n",
       "      <td>9</td>\n",
       "      <td>NaN</td>\n",
       "      <td>6</td>\n",
       "      <td>4.0</td>\n",
       "      <td>...</td>\n",
       "      <td>4.0</td>\n",
       "      <td>2</td>\n",
       "      <td>10/6/2014</td>\n",
       "      <td>4</td>\n",
       "      <td>0.870378</td>\n",
       "    </tr>\n",
       "    <tr>\n",
       "      <th>...</th>\n",
       "      <td>...</td>\n",
       "      <td>...</td>\n",
       "      <td>...</td>\n",
       "      <td>...</td>\n",
       "      <td>...</td>\n",
       "      <td>...</td>\n",
       "      <td>...</td>\n",
       "      <td>...</td>\n",
       "      <td>...</td>\n",
       "      <td>...</td>\n",
       "      <td>...</td>\n",
       "    </tr>\n",
       "    <tr>\n",
       "      <th>762</th>\n",
       "      <td>1920.0</td>\n",
       "      <td>9</td>\n",
       "      <td>NaN</td>\n",
       "      <td>6</td>\n",
       "      <td>4.0</td>\n",
       "      <td>...</td>\n",
       "      <td>5.0</td>\n",
       "      <td>1</td>\n",
       "      <td>11/9/2014</td>\n",
       "      <td>2</td>\n",
       "      <td>1.115464</td>\n",
       "    </tr>\n",
       "    <tr>\n",
       "      <th>763</th>\n",
       "      <td>1921.0</td>\n",
       "      <td>9</td>\n",
       "      <td>NaN</td>\n",
       "      <td>9</td>\n",
       "      <td>4.0</td>\n",
       "      <td>...</td>\n",
       "      <td>5.0</td>\n",
       "      <td>2</td>\n",
       "      <td>11/10/2014</td>\n",
       "      <td>3</td>\n",
       "      <td>0.865878</td>\n",
       "    </tr>\n",
       "    <tr>\n",
       "      <th>764</th>\n",
       "      <td>1922.0</td>\n",
       "      <td>9</td>\n",
       "      <td>NaN</td>\n",
       "      <td>5</td>\n",
       "      <td>5.0</td>\n",
       "      <td>...</td>\n",
       "      <td>5.0</td>\n",
       "      <td>2</td>\n",
       "      <td>11/10/2014</td>\n",
       "      <td>1</td>\n",
       "      <td>1.043120</td>\n",
       "    </tr>\n",
       "    <tr>\n",
       "      <th>765</th>\n",
       "      <td>1923.0</td>\n",
       "      <td>9</td>\n",
       "      <td>NaN</td>\n",
       "      <td>7</td>\n",
       "      <td>4.0</td>\n",
       "      <td>...</td>\n",
       "      <td>2.0</td>\n",
       "      <td>2</td>\n",
       "      <td>11/10/2014</td>\n",
       "      <td>3</td>\n",
       "      <td>0.865878</td>\n",
       "    </tr>\n",
       "    <tr>\n",
       "      <th>766</th>\n",
       "      <td>1924.0</td>\n",
       "      <td>9</td>\n",
       "      <td>NaN</td>\n",
       "      <td>10</td>\n",
       "      <td>3.0</td>\n",
       "      <td>...</td>\n",
       "      <td>1.0</td>\n",
       "      <td>2</td>\n",
       "      <td>11/10/2014</td>\n",
       "      <td>3</td>\n",
       "      <td>0.865878</td>\n",
       "    </tr>\n",
       "  </tbody>\n",
       "</table>\n",
       "<p>767 rows × 224 columns</p>\n",
       "</div>"
      ],
      "text/plain": [
       "     RESP_NUM  Q2   Q3  TRIPS  Q4_TOTAL    ...     ZONE  INTERVIEW_DAY  \\\n",
       "0         2.0   9  NaN      2       2.0    ...      5.0              2   \n",
       "1         3.0   9  NaN     11       6.0    ...      5.0              2   \n",
       "2         4.0   1  1.0    214       NaN    ...      NaN              2   \n",
       "3         5.0   3  1.0    594       NaN    ...      NaN              2   \n",
       "4         6.0   9  NaN      6       4.0    ...      4.0              2   \n",
       "..        ...  ..  ...    ...       ...    ...      ...            ...   \n",
       "762    1920.0   9  NaN      6       4.0    ...      5.0              1   \n",
       "763    1921.0   9  NaN      9       4.0    ...      5.0              2   \n",
       "764    1922.0   9  NaN      5       5.0    ...      5.0              2   \n",
       "765    1923.0   9  NaN      7       4.0    ...      2.0              2   \n",
       "766    1924.0   9  NaN     10       3.0    ...      1.0              2   \n",
       "\n",
       "     INTERVIEW_DATE  AGECO    WEIGHT  \n",
       "0         10/6/2014      1  1.043120  \n",
       "1         10/6/2014      2  1.115464  \n",
       "2         10/6/2014      7  1.048985  \n",
       "3         10/6/2014     10  0.930278  \n",
       "4         10/6/2014      4  0.870378  \n",
       "..              ...    ...       ...  \n",
       "762       11/9/2014      2  1.115464  \n",
       "763      11/10/2014      3  0.865878  \n",
       "764      11/10/2014      1  1.043120  \n",
       "765      11/10/2014      3  0.865878  \n",
       "766      11/10/2014      3  0.865878  \n",
       "\n",
       "[767 rows x 224 columns]"
      ]
     },
     "execution_count": 51,
     "metadata": {},
     "output_type": "execute_result"
    }
   ],
   "source": [
    "df"
   ]
  },
  {
   "cell_type": "raw",
   "metadata": {},
   "source": [
    "   The travel desicion survey within the City and County of San Francisco as well as the eight surrounding Bay Area counties of Alameda, Contra Costa, San Mateo, Marin, Santa Clara, Napa, Sonoma and Solano. A description of the dataset is as follows:\n",
    "    \n",
    "RESP-NUM: per capita crime rate by town\n",
    "Q2: In which Bay Area county do you live? 1=Alameda 2=Contra Costa 3=Marin 4=Napa 5=San Mateo 6=Santa Clara 7=Solano 8=Sonoma 9=San Francisco 0=Do not live in Bay Area  \n",
    "Q3: Have you gone into San Francisco within the past month (30 days)? 1=Yes 2=No \n",
    "TRIPS: Charles River binary/dummy variable (= 1 if tract bounds river; 0 otherwise)\n",
    "Q4_Total: nitric oxides concentration (parts per 10 million)\n",
    "Q4aP: (SF Residents) Where did you go? 1=Work 2=School 3=Shopping 4=Out to eat/Social/Entertainment/Recreation 5=Home 6=Other 7=Don't know / Don't remember 8=Religious/Volunteer/Political\n",
    "Q18M: 1=Drove my vehicle alone2=Drove my vehicle with others3=Drove car share4=Uber, Lyft, Sidecar or similar transportation network company5=Regular taxi6=Public transportation (Muni, BART, AC Transit, VTA, Amtrak, Paratransit, etc.)7=Private bus or van, including corporate shuttle, campus shuttle or similar (including UCSF, CPMC, Art Institute Leap, and RidePal)8=Bicycle9=Walk 10=Scooter/Motorcycle11=Other (specify)12=Don't know / Don't remember \n",
    "Zone: (San Francisco Residents) San Francisco Zone (Based on Zip code)\n",
    "Q27: Annual Income (1=$35,000 or less 2=$36,000 through $75,000 3=$76,000 through $100,000 4=Over $100,000)\n",
    "Interview_Day: Date of the interview\n",
    "Interview_Date: Day of the week on which the interview was conducted (1=Sunday2=Monday3=Tuesday4=Wednesday5=Thursday6=Friday7=Saturday)\n",
    "Adeco: Age code (used for weighting) 1=18-24 (Inside SF)2=25-34 (Inside SF)3=35-44 (Inside SF)4=45-54 (Inside SF)5=55 and older/Refused (Inside SF)6=18-24 (Outside SF)7=25-34 (Outside SF)8=35-44 (Outside SF)9=45-54 (Outside SF)10=55 and older/Refused (Outside SF)\n",
    "Weight: Weighting factor applied to record"
   ]
  },
  {
   "cell_type": "code",
   "execution_count": 52,
   "metadata": {
    "collapsed": false
   },
   "outputs": [
    {
     "data": {
      "text/plain": [
       "Index([u'RESP_NUM', u'Q2', u'Q3', u'TRIPS', u'Q4_TOTAL', u'Q5_TOTAL', u'Q4AP',\n",
       "       u'Q4BP', u'Q4CP', u'Q4DP',\n",
       "       ...\n",
       "       u'Q26-5', u'Q27', u'Q28', u'SAMPLE_TYPE', u'LANGUAGE', u'ZONE',\n",
       "       u'INTERVIEW_DAY', u'INTERVIEW_DATE', u'AGECO', u'WEIGHT'],\n",
       "      dtype='object', length=224)"
      ]
     },
     "execution_count": 52,
     "metadata": {},
     "output_type": "execute_result"
    }
   ],
   "source": [
    "df.columns"
   ]
  },
  {
   "cell_type": "code",
   "execution_count": 53,
   "metadata": {
    "collapsed": false
   },
   "outputs": [
    {
     "name": "stdout",
     "output_type": "stream",
     "text": [
      "RESP_NUM          767\n",
      "Q2                767\n",
      "Q3                392\n",
      "TRIPS             767\n",
      "Q4_TOTAL          375\n",
      "                 ... \n",
      "ZONE              375\n",
      "INTERVIEW_DAY     767\n",
      "INTERVIEW_DATE    767\n",
      "AGECO             767\n",
      "WEIGHT            767\n",
      "dtype: int64\n"
     ]
    }
   ],
   "source": [
    "print df.count()"
   ]
  },
  {
   "cell_type": "markdown",
   "metadata": {},
   "source": [
    "## Data Cleaning and Transformation"
   ]
  },
  {
   "cell_type": "code",
   "execution_count": 54,
   "metadata": {
    "collapsed": false
   },
   "outputs": [],
   "source": [
    "##Remove columns\n",
    "# Selecting only Home and Work - base on carpool purpose , Commute Way - Carpool\n",
    "df.drop(['SCH', 'SHOP', 'SOC', 'OTH-P-SF', 'DK-P-SF','SHTTLE', 'BIKE', 'WALK', 'SCOOT', 'REL', 'OTH-M-SF', 'DK-M-SF', \n",
    "'SF-D1','INTERVIEW_DAY', 'INTERVIEW_DATE', 'LANGUAGE', 'Q4BP', 'Q4CP', 'Q4DP', 'Q4EP', 'Q4FP', 'Q4GP', 'Q4HP', 'Q5BP',\n",
    "'Q5CP', 'Q5DP', 'Q5EP', 'Q5FP', 'Q5GP', 'Q5HP', 'Q18AP', 'Q18BP', 'Q18CP', 'Q18DP', 'Q18EP', 'Q18FP', 'Q18GP', 'Q18HP', \n",
    "'SCH1', 'SHOP1', 'SOC1', 'OTH1-P', 'DK1-P', 'SCH2', 'SHOP2', 'SOC2', 'OTH2-P', 'DK2-P', 'REL1', 'REL2', 'SHTTLE1', 'BIKE1',\n",
    "'WALK1', 'SCOOT1', 'SHTTLE2', 'BIKE2', 'WALK2', 'SCOOT2', 'OTH1-M', 'OTH2-M', 'DK1-M', 'DK2-M', 'Q18AD', 'Q18BD', 'Q18CD', \n",
    "'Q18DD', 'Q18ED', 'Q18FD', 'Q18GD', 'Q18HD', 'OSF1-D1', 'OSF1-D3', 'OSF2-D1', 'OSF2-D3', 'Q22', 'Q26-1', 'Q26-2', 'Q26-3', \n",
    "'Q26-4', 'Q26-5', 'SAMPLE_TYPE', 'Q3', 'TRIPS', 'Q4_TOTAL', 'Q5_TOTAL', 'Q4AM', 'Q4BM', 'Q4CM', 'Q4DM', 'Q4EM', 'Q4FM', \n",
    "'Q4GM','Q4HM', 'Q5AM', 'Q5BM', 'Q5CM', 'Q5DM', 'Q5EM', 'Q5FM', 'Q5GM', 'Q5HM', 'Q4AD', 'Q4BD', 'Q4CD', 'Q4DD', 'Q4ED',\n",
    "'Q4FD', 'Q4GD','Q4HD', 'Q5AD', 'Q5BD', 'Q5CD', 'Q5DD', 'Q5ED', 'Q5FD', 'Q5GD', 'Q5HD', 'Q8', 'Q11AP', 'Q11BP', 'Q11CP', \n",
    "'Q11DP','Q11EP', 'Q11FP', 'Q11GP', 'Q11HP', 'Q11AM', 'Q11BM', 'Q11CM', 'Q11DM','Q11EM', 'Q11FM', 'Q11GM',\n",
    "'Q11HM', 'Q14M', 'Q16M-ADJ', 'Q18AM', 'Q18BM', 'Q18CM', 'Q18DM', \n",
    "'Q18EM', 'Q18FM', 'Q18GM', 'Q18HM', 'SF-D3'], axis = 1, inplace = True)"
   ]
  },
  {
   "cell_type": "code",
   "execution_count": 55,
   "metadata": {
    "collapsed": false
   },
   "outputs": [],
   "source": [
    "df = df.rename(columns={'Q27': 'Income'})\n",
    "df = df.rename(columns={'RESP_NUM': 'Resp_num'})\n",
    "df = df.rename(columns={'Q2': 'Location'})\n",
    "df = df.rename(columns={'Q28': 'Gender'})\n",
    "df = df.rename(columns={'WORK': 'Work'})\n",
    "df = df.rename(columns={'HOME': 'Home'})"
   ]
  },
  {
   "cell_type": "code",
   "execution_count": 56,
   "metadata": {
    "collapsed": false
   },
   "outputs": [
    {
     "data": {
      "text/plain": [
       "Index([u'Resp_num', u'Location', u'Q4AP', u'Q5AP', u'Work', u'Home',\n",
       "       u'SFINTMODE', u'DA', u'DO', u'CRSHRE', u'TNC', u'TAXI', u'TRANS',\n",
       "       u'SF-D2', u'Q6', u'Q10', u'Q11_TOTAL', u'Q12', u'Q19', u'Q13', u'Q15',\n",
       "       u'Q16M', u'Q17', u'Q18_TOTAL', u'Q9M', u'Q7P', u'9P-ADJ', u'Q14P',\n",
       "       u'Q16P-ADJ', u'WORK1', u'WORK2', u'HOME1', u'HOME2', u'Q7M', u'Q9M-ADJ',\n",
       "       u'DA1', u'DA2', u'DO1', u'DO2', u'CRSHRE1', u'CRSHRE2', u'TNC1',\n",
       "       u'TNC2', u'TAXI1', u'TAXI2', u'TRANS1', u'TRANS2', u'Q7D', u'Q9D',\n",
       "       u'Q11AD', u'Q11BD', u'Q11CD', u'Q11DD', u'Q11ED', u'Q11FD', u'Q11GD',\n",
       "       u'Q11HD', u'Q14D', u'Q16D', u'OSF1-D2', u'OSF2-D2', u'OSF-D1',\n",
       "       u'OSF-D2', u'OSF-D3', u'Q20A', u'Q21A', u'Q21B', u'Q21C', u'Q21D',\n",
       "       u'Q23', u'Q24-SF', u'Q24-NSF', u'Q24A', u'Q25', u'Income', u'Gender',\n",
       "       u'ZONE', u'AGECO', u'WEIGHT'],\n",
       "      dtype='object')"
      ]
     },
     "execution_count": 56,
     "metadata": {},
     "output_type": "execute_result"
    }
   ],
   "source": [
    "df.columns"
   ]
  },
  {
   "cell_type": "code",
   "execution_count": 57,
   "metadata": {
    "collapsed": true
   },
   "outputs": [],
   "source": [
    "## Dropping additional columns "
   ]
  },
  {
   "cell_type": "code",
   "execution_count": 58,
   "metadata": {
    "collapsed": false
   },
   "outputs": [],
   "source": [
    "df.drop(['Q4AP', 'Q5AP', 'SFINTMODE', 'Q6', 'Q10', 'Q11_TOTAL', 'Q12', 'Q19', 'Q15', 'Q16M',\n",
    "'Q18_TOTAL', 'Q9M', 'Q7P', '9P-ADJ', 'Q14P', 'Q16P-ADJ', 'Q7M', 'Q9M-ADJ',\n",
    "'Q7D', 'Q9D', 'Q13', 'Q17', 'Q11AD', 'Q11BD', 'Q11CD', 'Q11DD', 'Q11ED', 'Q11FD',\n",
    "       'Q11GD', 'Q11HD', 'Q14D', 'Q16D', 'Q20A', 'Q21B', 'Q21D','Q23', 'TAXI', 'TAXI1', 'TAXI2'], axis = 1, inplace = True)"
   ]
  },
  {
   "cell_type": "code",
   "execution_count": 59,
   "metadata": {
    "collapsed": false
   },
   "outputs": [
    {
     "data": {
      "text/plain": [
       "Index([u'Resp_num', u'Location', u'Work', u'Home', u'DA', u'DO', u'CRSHRE',\n",
       "       u'TNC', u'TRANS', u'SF-D2', u'WORK1', u'WORK2', u'HOME1', u'HOME2',\n",
       "       u'DA1', u'DA2', u'DO1', u'DO2', u'CRSHRE1', u'CRSHRE2', u'TNC1',\n",
       "       u'TNC2', u'TRANS1', u'TRANS2', u'OSF1-D2', u'OSF2-D2', u'OSF-D1',\n",
       "       u'OSF-D2', u'OSF-D3', u'Q21A', u'Q21C', u'Q24-SF', u'Q24-NSF', u'Q24A',\n",
       "       u'Q25', u'Income', u'Gender', u'ZONE', u'AGECO', u'WEIGHT'],\n",
       "      dtype='object')"
      ]
     },
     "execution_count": 59,
     "metadata": {},
     "output_type": "execute_result"
    }
   ],
   "source": [
    "df.columns"
   ]
  },
  {
   "cell_type": "markdown",
   "metadata": {},
   "source": [
    "### Select San Francisco Location from the dataset"
   ]
  },
  {
   "cell_type": "code",
   "execution_count": 60,
   "metadata": {
    "collapsed": true
   },
   "outputs": [],
   "source": [
    "## Eliminating non-san francisco variables\n",
    "df.drop(['WORK1', 'WORK2', 'HOME1', 'HOME2',\n",
    "       'DA1', 'DA2', 'DO1', 'DO2', 'CRSHRE1', 'CRSHRE2', 'TNC1',\n",
    "       'TNC2', 'TRANS1', 'TRANS2'], axis = 1, inplace = True)"
   ]
  },
  {
   "cell_type": "code",
   "execution_count": 61,
   "metadata": {
    "collapsed": false
   },
   "outputs": [],
   "source": [
    "## Eliminating trips less than 1 mile\n",
    "df.drop(['OSF1-D2', 'OSF2-D2', 'OSF-D1' ], axis = 1, inplace = True)"
   ]
  },
  {
   "cell_type": "code",
   "execution_count": 62,
   "metadata": {
    "collapsed": false
   },
   "outputs": [
    {
     "data": {
      "text/plain": [
       "Index([u'Resp_num', u'Location', u'Work', u'Home', u'DA', u'DO', u'CRSHRE',\n",
       "       u'TNC', u'TRANS', u'SF-D2', u'OSF-D2', u'OSF-D3', u'Q21A', u'Q21C',\n",
       "       u'Q24-SF', u'Q24-NSF', u'Q24A', u'Q25', u'Income', u'Gender', u'ZONE',\n",
       "       u'AGECO', u'WEIGHT'],\n",
       "      dtype='object')"
      ]
     },
     "execution_count": 62,
     "metadata": {},
     "output_type": "execute_result"
    }
   ],
   "source": [
    "df.columns"
   ]
  },
  {
   "cell_type": "code",
   "execution_count": 63,
   "metadata": {
    "collapsed": false
   },
   "outputs": [
    {
     "data": {
      "text/html": [
       "<div>\n",
       "<table border=\"1\" class=\"dataframe\">\n",
       "  <thead>\n",
       "    <tr style=\"text-align: right;\">\n",
       "      <th></th>\n",
       "      <th>Resp_num</th>\n",
       "      <th>Location</th>\n",
       "      <th>Work</th>\n",
       "      <th>Home</th>\n",
       "      <th>DA</th>\n",
       "      <th>...</th>\n",
       "      <th>Income</th>\n",
       "      <th>Gender</th>\n",
       "      <th>ZONE</th>\n",
       "      <th>AGECO</th>\n",
       "      <th>WEIGHT</th>\n",
       "    </tr>\n",
       "  </thead>\n",
       "  <tbody>\n",
       "    <tr>\n",
       "      <th>0</th>\n",
       "      <td>2.0</td>\n",
       "      <td>9</td>\n",
       "      <td>0.0</td>\n",
       "      <td>1.0</td>\n",
       "      <td>0.0</td>\n",
       "      <td>...</td>\n",
       "      <td>1</td>\n",
       "      <td>1</td>\n",
       "      <td>5.0</td>\n",
       "      <td>1</td>\n",
       "      <td>1.043120</td>\n",
       "    </tr>\n",
       "    <tr>\n",
       "      <th>1</th>\n",
       "      <td>3.0</td>\n",
       "      <td>9</td>\n",
       "      <td>4.0</td>\n",
       "      <td>2.0</td>\n",
       "      <td>2.0</td>\n",
       "      <td>...</td>\n",
       "      <td>4</td>\n",
       "      <td>2</td>\n",
       "      <td>5.0</td>\n",
       "      <td>2</td>\n",
       "      <td>1.115464</td>\n",
       "    </tr>\n",
       "    <tr>\n",
       "      <th>2</th>\n",
       "      <td>4.0</td>\n",
       "      <td>1</td>\n",
       "      <td>NaN</td>\n",
       "      <td>NaN</td>\n",
       "      <td>NaN</td>\n",
       "      <td>...</td>\n",
       "      <td>5</td>\n",
       "      <td>2</td>\n",
       "      <td>NaN</td>\n",
       "      <td>7</td>\n",
       "      <td>1.048985</td>\n",
       "    </tr>\n",
       "    <tr>\n",
       "      <th>3</th>\n",
       "      <td>5.0</td>\n",
       "      <td>3</td>\n",
       "      <td>NaN</td>\n",
       "      <td>NaN</td>\n",
       "      <td>NaN</td>\n",
       "      <td>...</td>\n",
       "      <td>4</td>\n",
       "      <td>1</td>\n",
       "      <td>NaN</td>\n",
       "      <td>10</td>\n",
       "      <td>0.930278</td>\n",
       "    </tr>\n",
       "    <tr>\n",
       "      <th>4</th>\n",
       "      <td>6.0</td>\n",
       "      <td>9</td>\n",
       "      <td>0.0</td>\n",
       "      <td>2.0</td>\n",
       "      <td>0.0</td>\n",
       "      <td>...</td>\n",
       "      <td>4</td>\n",
       "      <td>1</td>\n",
       "      <td>4.0</td>\n",
       "      <td>4</td>\n",
       "      <td>0.870378</td>\n",
       "    </tr>\n",
       "    <tr>\n",
       "      <th>...</th>\n",
       "      <td>...</td>\n",
       "      <td>...</td>\n",
       "      <td>...</td>\n",
       "      <td>...</td>\n",
       "      <td>...</td>\n",
       "      <td>...</td>\n",
       "      <td>...</td>\n",
       "      <td>...</td>\n",
       "      <td>...</td>\n",
       "      <td>...</td>\n",
       "      <td>...</td>\n",
       "    </tr>\n",
       "    <tr>\n",
       "      <th>762</th>\n",
       "      <td>1920.0</td>\n",
       "      <td>9</td>\n",
       "      <td>1.0</td>\n",
       "      <td>2.0</td>\n",
       "      <td>2.0</td>\n",
       "      <td>...</td>\n",
       "      <td>2</td>\n",
       "      <td>1</td>\n",
       "      <td>5.0</td>\n",
       "      <td>2</td>\n",
       "      <td>1.115464</td>\n",
       "    </tr>\n",
       "    <tr>\n",
       "      <th>763</th>\n",
       "      <td>1921.0</td>\n",
       "      <td>9</td>\n",
       "      <td>2.0</td>\n",
       "      <td>3.0</td>\n",
       "      <td>0.0</td>\n",
       "      <td>...</td>\n",
       "      <td>3</td>\n",
       "      <td>2</td>\n",
       "      <td>5.0</td>\n",
       "      <td>3</td>\n",
       "      <td>0.865878</td>\n",
       "    </tr>\n",
       "    <tr>\n",
       "      <th>764</th>\n",
       "      <td>1922.0</td>\n",
       "      <td>9</td>\n",
       "      <td>0.0</td>\n",
       "      <td>2.0</td>\n",
       "      <td>0.0</td>\n",
       "      <td>...</td>\n",
       "      <td>1</td>\n",
       "      <td>2</td>\n",
       "      <td>5.0</td>\n",
       "      <td>1</td>\n",
       "      <td>1.043120</td>\n",
       "    </tr>\n",
       "    <tr>\n",
       "      <th>765</th>\n",
       "      <td>1923.0</td>\n",
       "      <td>9</td>\n",
       "      <td>0.0</td>\n",
       "      <td>2.0</td>\n",
       "      <td>0.0</td>\n",
       "      <td>...</td>\n",
       "      <td>2</td>\n",
       "      <td>2</td>\n",
       "      <td>2.0</td>\n",
       "      <td>3</td>\n",
       "      <td>0.865878</td>\n",
       "    </tr>\n",
       "    <tr>\n",
       "      <th>766</th>\n",
       "      <td>1924.0</td>\n",
       "      <td>9</td>\n",
       "      <td>0.0</td>\n",
       "      <td>2.0</td>\n",
       "      <td>0.0</td>\n",
       "      <td>...</td>\n",
       "      <td>5</td>\n",
       "      <td>2</td>\n",
       "      <td>1.0</td>\n",
       "      <td>3</td>\n",
       "      <td>0.865878</td>\n",
       "    </tr>\n",
       "  </tbody>\n",
       "</table>\n",
       "<p>767 rows × 23 columns</p>\n",
       "</div>"
      ],
      "text/plain": [
       "     Resp_num  Location  Work  Home   DA    ...     Income  Gender  ZONE  \\\n",
       "0         2.0         9   0.0   1.0  0.0    ...          1       1   5.0   \n",
       "1         3.0         9   4.0   2.0  2.0    ...          4       2   5.0   \n",
       "2         4.0         1   NaN   NaN  NaN    ...          5       2   NaN   \n",
       "3         5.0         3   NaN   NaN  NaN    ...          4       1   NaN   \n",
       "4         6.0         9   0.0   2.0  0.0    ...          4       1   4.0   \n",
       "..        ...       ...   ...   ...  ...    ...        ...     ...   ...   \n",
       "762    1920.0         9   1.0   2.0  2.0    ...          2       1   5.0   \n",
       "763    1921.0         9   2.0   3.0  0.0    ...          3       2   5.0   \n",
       "764    1922.0         9   0.0   2.0  0.0    ...          1       2   5.0   \n",
       "765    1923.0         9   0.0   2.0  0.0    ...          2       2   2.0   \n",
       "766    1924.0         9   0.0   2.0  0.0    ...          5       2   1.0   \n",
       "\n",
       "     AGECO    WEIGHT  \n",
       "0        1  1.043120  \n",
       "1        2  1.115464  \n",
       "2        7  1.048985  \n",
       "3       10  0.930278  \n",
       "4        4  0.870378  \n",
       "..     ...       ...  \n",
       "762      2  1.115464  \n",
       "763      3  0.865878  \n",
       "764      1  1.043120  \n",
       "765      3  0.865878  \n",
       "766      3  0.865878  \n",
       "\n",
       "[767 rows x 23 columns]"
      ]
     },
     "execution_count": 63,
     "metadata": {},
     "output_type": "execute_result"
    }
   ],
   "source": [
    "df"
   ]
  },
  {
   "cell_type": "code",
   "execution_count": 64,
   "metadata": {
    "collapsed": false
   },
   "outputs": [
    {
     "data": {
      "text/plain": [
       "array([9, 1, 3, 8, 5, 2, 6, 7, 4])"
      ]
     },
     "execution_count": 64,
     "metadata": {},
     "output_type": "execute_result"
    }
   ],
   "source": [
    "df.Location.unique()"
   ]
  },
  {
   "cell_type": "markdown",
   "metadata": {},
   "source": [
    "Select 5-6-9 Location numbers meaning San Francisco and South Bay"
   ]
  },
  {
   "cell_type": "code",
   "execution_count": 65,
   "metadata": {
    "collapsed": false
   },
   "outputs": [
    {
     "data": {
      "text/html": [
       "<div>\n",
       "<table border=\"1\" class=\"dataframe\">\n",
       "  <thead>\n",
       "    <tr style=\"text-align: right;\">\n",
       "      <th></th>\n",
       "      <th>Resp_num</th>\n",
       "      <th>Location</th>\n",
       "      <th>Work</th>\n",
       "      <th>Home</th>\n",
       "      <th>DA</th>\n",
       "      <th>...</th>\n",
       "      <th>Income</th>\n",
       "      <th>Gender</th>\n",
       "      <th>ZONE</th>\n",
       "      <th>AGECO</th>\n",
       "      <th>WEIGHT</th>\n",
       "    </tr>\n",
       "  </thead>\n",
       "  <tbody>\n",
       "    <tr>\n",
       "      <th>12</th>\n",
       "      <td>16.0</td>\n",
       "      <td>5</td>\n",
       "      <td>NaN</td>\n",
       "      <td>NaN</td>\n",
       "      <td>NaN</td>\n",
       "      <td>...</td>\n",
       "      <td>3</td>\n",
       "      <td>2</td>\n",
       "      <td>NaN</td>\n",
       "      <td>7</td>\n",
       "      <td>1.048985</td>\n",
       "    </tr>\n",
       "    <tr>\n",
       "      <th>26</th>\n",
       "      <td>32.0</td>\n",
       "      <td>5</td>\n",
       "      <td>NaN</td>\n",
       "      <td>NaN</td>\n",
       "      <td>NaN</td>\n",
       "      <td>...</td>\n",
       "      <td>3</td>\n",
       "      <td>1</td>\n",
       "      <td>NaN</td>\n",
       "      <td>10</td>\n",
       "      <td>0.930278</td>\n",
       "    </tr>\n",
       "    <tr>\n",
       "      <th>48</th>\n",
       "      <td>59.0</td>\n",
       "      <td>5</td>\n",
       "      <td>NaN</td>\n",
       "      <td>NaN</td>\n",
       "      <td>NaN</td>\n",
       "      <td>...</td>\n",
       "      <td>4</td>\n",
       "      <td>2</td>\n",
       "      <td>NaN</td>\n",
       "      <td>7</td>\n",
       "      <td>1.048985</td>\n",
       "    </tr>\n",
       "    <tr>\n",
       "      <th>49</th>\n",
       "      <td>61.0</td>\n",
       "      <td>5</td>\n",
       "      <td>NaN</td>\n",
       "      <td>NaN</td>\n",
       "      <td>NaN</td>\n",
       "      <td>...</td>\n",
       "      <td>4</td>\n",
       "      <td>1</td>\n",
       "      <td>NaN</td>\n",
       "      <td>10</td>\n",
       "      <td>0.930278</td>\n",
       "    </tr>\n",
       "    <tr>\n",
       "      <th>52</th>\n",
       "      <td>64.0</td>\n",
       "      <td>5</td>\n",
       "      <td>NaN</td>\n",
       "      <td>NaN</td>\n",
       "      <td>NaN</td>\n",
       "      <td>...</td>\n",
       "      <td>5</td>\n",
       "      <td>2</td>\n",
       "      <td>NaN</td>\n",
       "      <td>7</td>\n",
       "      <td>1.048985</td>\n",
       "    </tr>\n",
       "  </tbody>\n",
       "</table>\n",
       "<p>5 rows × 23 columns</p>\n",
       "</div>"
      ],
      "text/plain": [
       "    Resp_num  Location  Work  Home  DA    ...     Income  Gender  ZONE  AGECO  \\\n",
       "12      16.0         5   NaN   NaN NaN    ...          3       2   NaN      7   \n",
       "26      32.0         5   NaN   NaN NaN    ...          3       1   NaN     10   \n",
       "48      59.0         5   NaN   NaN NaN    ...          4       2   NaN      7   \n",
       "49      61.0         5   NaN   NaN NaN    ...          4       1   NaN     10   \n",
       "52      64.0         5   NaN   NaN NaN    ...          5       2   NaN      7   \n",
       "\n",
       "      WEIGHT  \n",
       "12  1.048985  \n",
       "26  0.930278  \n",
       "48  1.048985  \n",
       "49  0.930278  \n",
       "52  1.048985  \n",
       "\n",
       "[5 rows x 23 columns]"
      ]
     },
     "execution_count": 65,
     "metadata": {},
     "output_type": "execute_result"
    }
   ],
   "source": [
    "subset_df = df[(df.Location == 5)]\n",
    "\n",
    "subset_df.head()"
   ]
  },
  {
   "cell_type": "code",
   "execution_count": 66,
   "metadata": {
    "collapsed": false
   },
   "outputs": [
    {
     "data": {
      "text/html": [
       "<div>\n",
       "<table border=\"1\" class=\"dataframe\">\n",
       "  <thead>\n",
       "    <tr style=\"text-align: right;\">\n",
       "      <th></th>\n",
       "      <th>Resp_num</th>\n",
       "      <th>Location</th>\n",
       "      <th>Work</th>\n",
       "      <th>Home</th>\n",
       "      <th>DA</th>\n",
       "      <th>...</th>\n",
       "      <th>Income</th>\n",
       "      <th>Gender</th>\n",
       "      <th>ZONE</th>\n",
       "      <th>AGECO</th>\n",
       "      <th>WEIGHT</th>\n",
       "    </tr>\n",
       "  </thead>\n",
       "  <tbody>\n",
       "    <tr>\n",
       "      <th>43</th>\n",
       "      <td>53.0</td>\n",
       "      <td>6</td>\n",
       "      <td>NaN</td>\n",
       "      <td>NaN</td>\n",
       "      <td>NaN</td>\n",
       "      <td>...</td>\n",
       "      <td>5</td>\n",
       "      <td>1</td>\n",
       "      <td>NaN</td>\n",
       "      <td>8</td>\n",
       "      <td>0.938616</td>\n",
       "    </tr>\n",
       "    <tr>\n",
       "      <th>63</th>\n",
       "      <td>76.0</td>\n",
       "      <td>6</td>\n",
       "      <td>NaN</td>\n",
       "      <td>NaN</td>\n",
       "      <td>NaN</td>\n",
       "      <td>...</td>\n",
       "      <td>5</td>\n",
       "      <td>1</td>\n",
       "      <td>NaN</td>\n",
       "      <td>7</td>\n",
       "      <td>1.048985</td>\n",
       "    </tr>\n",
       "    <tr>\n",
       "      <th>86</th>\n",
       "      <td>102.0</td>\n",
       "      <td>6</td>\n",
       "      <td>NaN</td>\n",
       "      <td>NaN</td>\n",
       "      <td>NaN</td>\n",
       "      <td>...</td>\n",
       "      <td>1</td>\n",
       "      <td>1</td>\n",
       "      <td>NaN</td>\n",
       "      <td>10</td>\n",
       "      <td>0.930278</td>\n",
       "    </tr>\n",
       "    <tr>\n",
       "      <th>88</th>\n",
       "      <td>104.0</td>\n",
       "      <td>6</td>\n",
       "      <td>NaN</td>\n",
       "      <td>NaN</td>\n",
       "      <td>NaN</td>\n",
       "      <td>...</td>\n",
       "      <td>1</td>\n",
       "      <td>2</td>\n",
       "      <td>NaN</td>\n",
       "      <td>10</td>\n",
       "      <td>0.930278</td>\n",
       "    </tr>\n",
       "    <tr>\n",
       "      <th>95</th>\n",
       "      <td>112.0</td>\n",
       "      <td>6</td>\n",
       "      <td>NaN</td>\n",
       "      <td>NaN</td>\n",
       "      <td>NaN</td>\n",
       "      <td>...</td>\n",
       "      <td>3</td>\n",
       "      <td>2</td>\n",
       "      <td>NaN</td>\n",
       "      <td>10</td>\n",
       "      <td>0.930278</td>\n",
       "    </tr>\n",
       "  </tbody>\n",
       "</table>\n",
       "<p>5 rows × 23 columns</p>\n",
       "</div>"
      ],
      "text/plain": [
       "    Resp_num  Location  Work  Home  DA    ...     Income  Gender  ZONE  AGECO  \\\n",
       "43      53.0         6   NaN   NaN NaN    ...          5       1   NaN      8   \n",
       "63      76.0         6   NaN   NaN NaN    ...          5       1   NaN      7   \n",
       "86     102.0         6   NaN   NaN NaN    ...          1       1   NaN     10   \n",
       "88     104.0         6   NaN   NaN NaN    ...          1       2   NaN     10   \n",
       "95     112.0         6   NaN   NaN NaN    ...          3       2   NaN     10   \n",
       "\n",
       "      WEIGHT  \n",
       "43  0.938616  \n",
       "63  1.048985  \n",
       "86  0.930278  \n",
       "88  0.930278  \n",
       "95  0.930278  \n",
       "\n",
       "[5 rows x 23 columns]"
      ]
     },
     "execution_count": 66,
     "metadata": {},
     "output_type": "execute_result"
    }
   ],
   "source": [
    "subset_df = df[(df.Location == 6)]\n",
    "\n",
    "subset_df.head()"
   ]
  },
  {
   "cell_type": "code",
   "execution_count": 67,
   "metadata": {
    "collapsed": false
   },
   "outputs": [
    {
     "data": {
      "text/html": [
       "<div>\n",
       "<table border=\"1\" class=\"dataframe\">\n",
       "  <thead>\n",
       "    <tr style=\"text-align: right;\">\n",
       "      <th></th>\n",
       "      <th>Resp_num</th>\n",
       "      <th>Location</th>\n",
       "      <th>Work</th>\n",
       "      <th>Home</th>\n",
       "      <th>DA</th>\n",
       "      <th>...</th>\n",
       "      <th>Income</th>\n",
       "      <th>Gender</th>\n",
       "      <th>ZONE</th>\n",
       "      <th>AGECO</th>\n",
       "      <th>WEIGHT</th>\n",
       "    </tr>\n",
       "  </thead>\n",
       "  <tbody>\n",
       "    <tr>\n",
       "      <th>0</th>\n",
       "      <td>2.0</td>\n",
       "      <td>9</td>\n",
       "      <td>0.0</td>\n",
       "      <td>1.0</td>\n",
       "      <td>0.0</td>\n",
       "      <td>...</td>\n",
       "      <td>1</td>\n",
       "      <td>1</td>\n",
       "      <td>5.0</td>\n",
       "      <td>1</td>\n",
       "      <td>1.043120</td>\n",
       "    </tr>\n",
       "    <tr>\n",
       "      <th>1</th>\n",
       "      <td>3.0</td>\n",
       "      <td>9</td>\n",
       "      <td>4.0</td>\n",
       "      <td>2.0</td>\n",
       "      <td>2.0</td>\n",
       "      <td>...</td>\n",
       "      <td>4</td>\n",
       "      <td>2</td>\n",
       "      <td>5.0</td>\n",
       "      <td>2</td>\n",
       "      <td>1.115464</td>\n",
       "    </tr>\n",
       "    <tr>\n",
       "      <th>4</th>\n",
       "      <td>6.0</td>\n",
       "      <td>9</td>\n",
       "      <td>0.0</td>\n",
       "      <td>2.0</td>\n",
       "      <td>0.0</td>\n",
       "      <td>...</td>\n",
       "      <td>4</td>\n",
       "      <td>1</td>\n",
       "      <td>4.0</td>\n",
       "      <td>4</td>\n",
       "      <td>0.870378</td>\n",
       "    </tr>\n",
       "    <tr>\n",
       "      <th>7</th>\n",
       "      <td>10.0</td>\n",
       "      <td>9</td>\n",
       "      <td>3.0</td>\n",
       "      <td>2.0</td>\n",
       "      <td>5.0</td>\n",
       "      <td>...</td>\n",
       "      <td>3</td>\n",
       "      <td>1</td>\n",
       "      <td>3.0</td>\n",
       "      <td>3</td>\n",
       "      <td>0.865878</td>\n",
       "    </tr>\n",
       "    <tr>\n",
       "      <th>9</th>\n",
       "      <td>12.0</td>\n",
       "      <td>9</td>\n",
       "      <td>0.0</td>\n",
       "      <td>1.0</td>\n",
       "      <td>1.0</td>\n",
       "      <td>...</td>\n",
       "      <td>1</td>\n",
       "      <td>1</td>\n",
       "      <td>5.0</td>\n",
       "      <td>3</td>\n",
       "      <td>0.865878</td>\n",
       "    </tr>\n",
       "  </tbody>\n",
       "</table>\n",
       "<p>5 rows × 23 columns</p>\n",
       "</div>"
      ],
      "text/plain": [
       "   Resp_num  Location  Work  Home   DA    ...     Income  Gender  ZONE  AGECO  \\\n",
       "0       2.0         9   0.0   1.0  0.0    ...          1       1   5.0      1   \n",
       "1       3.0         9   4.0   2.0  2.0    ...          4       2   5.0      2   \n",
       "4       6.0         9   0.0   2.0  0.0    ...          4       1   4.0      4   \n",
       "7      10.0         9   3.0   2.0  5.0    ...          3       1   3.0      3   \n",
       "9      12.0         9   0.0   1.0  1.0    ...          1       1   5.0      3   \n",
       "\n",
       "     WEIGHT  \n",
       "0  1.043120  \n",
       "1  1.115464  \n",
       "4  0.870378  \n",
       "7  0.865878  \n",
       "9  0.865878  \n",
       "\n",
       "[5 rows x 23 columns]"
      ]
     },
     "execution_count": 67,
     "metadata": {},
     "output_type": "execute_result"
    }
   ],
   "source": [
    "subset_df = df[(df.Location == 9)]\n",
    "\n",
    "subset_df.head()"
   ]
  },
  {
   "cell_type": "code",
   "execution_count": 68,
   "metadata": {
    "collapsed": true
   },
   "outputs": [],
   "source": [
    "## Observing the data - work base trips"
   ]
  },
  {
   "cell_type": "code",
   "execution_count": 69,
   "metadata": {
    "collapsed": false
   },
   "outputs": [
    {
     "data": {
      "text/plain": [
       "array([  0.,   4.,  nan,   3.,   2.,   1.,   8.,   5.])"
      ]
     },
     "execution_count": 69,
     "metadata": {},
     "output_type": "execute_result"
    }
   ],
   "source": [
    "df.Work.unique()"
   ]
  },
  {
   "cell_type": "code",
   "execution_count": 70,
   "metadata": {
    "collapsed": false
   },
   "outputs": [
    {
     "data": {
      "text/plain": [
       "0.0    192\n",
       "2.0     76\n",
       "1.0     68\n",
       "3.0     23\n",
       "4.0     14\n",
       "8.0      1\n",
       "5.0      1\n",
       "Name: Work, dtype: int64"
      ]
     },
     "execution_count": 70,
     "metadata": {},
     "output_type": "execute_result"
    }
   ],
   "source": [
    "df.Work.value_counts()"
   ]
  },
  {
   "cell_type": "code",
   "execution_count": 71,
   "metadata": {
    "collapsed": false
   },
   "outputs": [
    {
     "data": {
      "text/html": [
       "<div>\n",
       "<table border=\"1\" class=\"dataframe\">\n",
       "  <thead>\n",
       "    <tr style=\"text-align: right;\">\n",
       "      <th></th>\n",
       "      <th>Work</th>\n",
       "    </tr>\n",
       "  </thead>\n",
       "  <tbody>\n",
       "    <tr>\n",
       "      <th>0</th>\n",
       "      <td>0.0</td>\n",
       "    </tr>\n",
       "    <tr>\n",
       "      <th>1</th>\n",
       "      <td>4.0</td>\n",
       "    </tr>\n",
       "    <tr>\n",
       "      <th>2</th>\n",
       "      <td>NaN</td>\n",
       "    </tr>\n",
       "    <tr>\n",
       "      <th>3</th>\n",
       "      <td>NaN</td>\n",
       "    </tr>\n",
       "    <tr>\n",
       "      <th>4</th>\n",
       "      <td>0.0</td>\n",
       "    </tr>\n",
       "    <tr>\n",
       "      <th>...</th>\n",
       "      <td>...</td>\n",
       "    </tr>\n",
       "    <tr>\n",
       "      <th>762</th>\n",
       "      <td>1.0</td>\n",
       "    </tr>\n",
       "    <tr>\n",
       "      <th>763</th>\n",
       "      <td>2.0</td>\n",
       "    </tr>\n",
       "    <tr>\n",
       "      <th>764</th>\n",
       "      <td>0.0</td>\n",
       "    </tr>\n",
       "    <tr>\n",
       "      <th>765</th>\n",
       "      <td>0.0</td>\n",
       "    </tr>\n",
       "    <tr>\n",
       "      <th>766</th>\n",
       "      <td>0.0</td>\n",
       "    </tr>\n",
       "  </tbody>\n",
       "</table>\n",
       "<p>767 rows × 1 columns</p>\n",
       "</div>"
      ],
      "text/plain": [
       "     Work\n",
       "0     0.0\n",
       "1     4.0\n",
       "2     NaN\n",
       "3     NaN\n",
       "4     0.0\n",
       "..    ...\n",
       "762   1.0\n",
       "763   2.0\n",
       "764   0.0\n",
       "765   0.0\n",
       "766   0.0\n",
       "\n",
       "[767 rows x 1 columns]"
      ]
     },
     "execution_count": 71,
     "metadata": {},
     "output_type": "execute_result"
    }
   ],
   "source": [
    "df[ [df.columns.get_loc('Work')] ]"
   ]
  },
  {
   "cell_type": "code",
   "execution_count": 72,
   "metadata": {
    "collapsed": false
   },
   "outputs": [],
   "source": [
    "## Getting rid of rows with Location that is not equal to 9 - San Francisco\n",
    "df = df.drop(df[df.Location < 9 ].index)"
   ]
  },
  {
   "cell_type": "code",
   "execution_count": 73,
   "metadata": {
    "collapsed": false
   },
   "outputs": [
    {
     "data": {
      "text/html": [
       "<div>\n",
       "<table border=\"1\" class=\"dataframe\">\n",
       "  <thead>\n",
       "    <tr style=\"text-align: right;\">\n",
       "      <th></th>\n",
       "      <th>Resp_num</th>\n",
       "      <th>Location</th>\n",
       "      <th>Work</th>\n",
       "      <th>Home</th>\n",
       "      <th>DA</th>\n",
       "      <th>...</th>\n",
       "      <th>Income</th>\n",
       "      <th>Gender</th>\n",
       "      <th>ZONE</th>\n",
       "      <th>AGECO</th>\n",
       "      <th>WEIGHT</th>\n",
       "    </tr>\n",
       "  </thead>\n",
       "  <tbody>\n",
       "    <tr>\n",
       "      <th>0</th>\n",
       "      <td>2.0</td>\n",
       "      <td>9</td>\n",
       "      <td>0.0</td>\n",
       "      <td>1.0</td>\n",
       "      <td>0.0</td>\n",
       "      <td>...</td>\n",
       "      <td>1</td>\n",
       "      <td>1</td>\n",
       "      <td>5.0</td>\n",
       "      <td>1</td>\n",
       "      <td>1.043120</td>\n",
       "    </tr>\n",
       "    <tr>\n",
       "      <th>1</th>\n",
       "      <td>3.0</td>\n",
       "      <td>9</td>\n",
       "      <td>4.0</td>\n",
       "      <td>2.0</td>\n",
       "      <td>2.0</td>\n",
       "      <td>...</td>\n",
       "      <td>4</td>\n",
       "      <td>2</td>\n",
       "      <td>5.0</td>\n",
       "      <td>2</td>\n",
       "      <td>1.115464</td>\n",
       "    </tr>\n",
       "    <tr>\n",
       "      <th>4</th>\n",
       "      <td>6.0</td>\n",
       "      <td>9</td>\n",
       "      <td>0.0</td>\n",
       "      <td>2.0</td>\n",
       "      <td>0.0</td>\n",
       "      <td>...</td>\n",
       "      <td>4</td>\n",
       "      <td>1</td>\n",
       "      <td>4.0</td>\n",
       "      <td>4</td>\n",
       "      <td>0.870378</td>\n",
       "    </tr>\n",
       "    <tr>\n",
       "      <th>7</th>\n",
       "      <td>10.0</td>\n",
       "      <td>9</td>\n",
       "      <td>3.0</td>\n",
       "      <td>2.0</td>\n",
       "      <td>5.0</td>\n",
       "      <td>...</td>\n",
       "      <td>3</td>\n",
       "      <td>1</td>\n",
       "      <td>3.0</td>\n",
       "      <td>3</td>\n",
       "      <td>0.865878</td>\n",
       "    </tr>\n",
       "    <tr>\n",
       "      <th>9</th>\n",
       "      <td>12.0</td>\n",
       "      <td>9</td>\n",
       "      <td>0.0</td>\n",
       "      <td>1.0</td>\n",
       "      <td>1.0</td>\n",
       "      <td>...</td>\n",
       "      <td>1</td>\n",
       "      <td>1</td>\n",
       "      <td>5.0</td>\n",
       "      <td>3</td>\n",
       "      <td>0.865878</td>\n",
       "    </tr>\n",
       "    <tr>\n",
       "      <th>...</th>\n",
       "      <td>...</td>\n",
       "      <td>...</td>\n",
       "      <td>...</td>\n",
       "      <td>...</td>\n",
       "      <td>...</td>\n",
       "      <td>...</td>\n",
       "      <td>...</td>\n",
       "      <td>...</td>\n",
       "      <td>...</td>\n",
       "      <td>...</td>\n",
       "      <td>...</td>\n",
       "    </tr>\n",
       "    <tr>\n",
       "      <th>762</th>\n",
       "      <td>1920.0</td>\n",
       "      <td>9</td>\n",
       "      <td>1.0</td>\n",
       "      <td>2.0</td>\n",
       "      <td>2.0</td>\n",
       "      <td>...</td>\n",
       "      <td>2</td>\n",
       "      <td>1</td>\n",
       "      <td>5.0</td>\n",
       "      <td>2</td>\n",
       "      <td>1.115464</td>\n",
       "    </tr>\n",
       "    <tr>\n",
       "      <th>763</th>\n",
       "      <td>1921.0</td>\n",
       "      <td>9</td>\n",
       "      <td>2.0</td>\n",
       "      <td>3.0</td>\n",
       "      <td>0.0</td>\n",
       "      <td>...</td>\n",
       "      <td>3</td>\n",
       "      <td>2</td>\n",
       "      <td>5.0</td>\n",
       "      <td>3</td>\n",
       "      <td>0.865878</td>\n",
       "    </tr>\n",
       "    <tr>\n",
       "      <th>764</th>\n",
       "      <td>1922.0</td>\n",
       "      <td>9</td>\n",
       "      <td>0.0</td>\n",
       "      <td>2.0</td>\n",
       "      <td>0.0</td>\n",
       "      <td>...</td>\n",
       "      <td>1</td>\n",
       "      <td>2</td>\n",
       "      <td>5.0</td>\n",
       "      <td>1</td>\n",
       "      <td>1.043120</td>\n",
       "    </tr>\n",
       "    <tr>\n",
       "      <th>765</th>\n",
       "      <td>1923.0</td>\n",
       "      <td>9</td>\n",
       "      <td>0.0</td>\n",
       "      <td>2.0</td>\n",
       "      <td>0.0</td>\n",
       "      <td>...</td>\n",
       "      <td>2</td>\n",
       "      <td>2</td>\n",
       "      <td>2.0</td>\n",
       "      <td>3</td>\n",
       "      <td>0.865878</td>\n",
       "    </tr>\n",
       "    <tr>\n",
       "      <th>766</th>\n",
       "      <td>1924.0</td>\n",
       "      <td>9</td>\n",
       "      <td>0.0</td>\n",
       "      <td>2.0</td>\n",
       "      <td>0.0</td>\n",
       "      <td>...</td>\n",
       "      <td>5</td>\n",
       "      <td>2</td>\n",
       "      <td>1.0</td>\n",
       "      <td>3</td>\n",
       "      <td>0.865878</td>\n",
       "    </tr>\n",
       "  </tbody>\n",
       "</table>\n",
       "<p>375 rows × 23 columns</p>\n",
       "</div>"
      ],
      "text/plain": [
       "     Resp_num  Location  Work  Home   DA    ...     Income  Gender  ZONE  \\\n",
       "0         2.0         9   0.0   1.0  0.0    ...          1       1   5.0   \n",
       "1         3.0         9   4.0   2.0  2.0    ...          4       2   5.0   \n",
       "4         6.0         9   0.0   2.0  0.0    ...          4       1   4.0   \n",
       "7        10.0         9   3.0   2.0  5.0    ...          3       1   3.0   \n",
       "9        12.0         9   0.0   1.0  1.0    ...          1       1   5.0   \n",
       "..        ...       ...   ...   ...  ...    ...        ...     ...   ...   \n",
       "762    1920.0         9   1.0   2.0  2.0    ...          2       1   5.0   \n",
       "763    1921.0         9   2.0   3.0  0.0    ...          3       2   5.0   \n",
       "764    1922.0         9   0.0   2.0  0.0    ...          1       2   5.0   \n",
       "765    1923.0         9   0.0   2.0  0.0    ...          2       2   2.0   \n",
       "766    1924.0         9   0.0   2.0  0.0    ...          5       2   1.0   \n",
       "\n",
       "     AGECO    WEIGHT  \n",
       "0        1  1.043120  \n",
       "1        2  1.115464  \n",
       "4        4  0.870378  \n",
       "7        3  0.865878  \n",
       "9        3  0.865878  \n",
       "..     ...       ...  \n",
       "762      2  1.115464  \n",
       "763      3  0.865878  \n",
       "764      1  1.043120  \n",
       "765      3  0.865878  \n",
       "766      3  0.865878  \n",
       "\n",
       "[375 rows x 23 columns]"
      ]
     },
     "execution_count": 73,
     "metadata": {},
     "output_type": "execute_result"
    }
   ],
   "source": [
    "df"
   ]
  },
  {
   "cell_type": "code",
   "execution_count": 74,
   "metadata": {
    "collapsed": true
   },
   "outputs": [],
   "source": [
    "## Transforming data to integer\n",
    "df[['Work', 'Home']] = df[['Work', 'Home']].astype(int)"
   ]
  },
  {
   "cell_type": "markdown",
   "metadata": {
    "collapsed": false
   },
   "source": [
    "Selecting Home and Work - base on carpool purpose   "
   ]
  },
  {
   "cell_type": "markdown",
   "metadata": {},
   "source": [
    "# PROJECT 3"
   ]
  },
  {
   "cell_type": "markdown",
   "metadata": {
    "collapsed": true
   },
   "source": [
    "## Exploratory Data Analysis"
   ]
  },
  {
   "cell_type": "code",
   "execution_count": 75,
   "metadata": {
    "collapsed": false
   },
   "outputs": [
    {
     "data": {
      "text/html": [
       "<div>\n",
       "<table border=\"1\" class=\"dataframe\">\n",
       "  <thead>\n",
       "    <tr style=\"text-align: right;\">\n",
       "      <th></th>\n",
       "      <th>Resp_num</th>\n",
       "      <th>Location</th>\n",
       "      <th>Work</th>\n",
       "      <th>Home</th>\n",
       "      <th>DA</th>\n",
       "      <th>...</th>\n",
       "      <th>Income</th>\n",
       "      <th>Gender</th>\n",
       "      <th>ZONE</th>\n",
       "      <th>AGECO</th>\n",
       "      <th>WEIGHT</th>\n",
       "    </tr>\n",
       "  </thead>\n",
       "  <tbody>\n",
       "    <tr>\n",
       "      <th>count</th>\n",
       "      <td>375.000000</td>\n",
       "      <td>375.0</td>\n",
       "      <td>375.000000</td>\n",
       "      <td>375.000000</td>\n",
       "      <td>375.000000</td>\n",
       "      <td>...</td>\n",
       "      <td>375.000000</td>\n",
       "      <td>375.000000</td>\n",
       "      <td>375.000000</td>\n",
       "      <td>375.000000</td>\n",
       "      <td>375.000000</td>\n",
       "    </tr>\n",
       "    <tr>\n",
       "      <th>mean</th>\n",
       "      <td>889.388000</td>\n",
       "      <td>9.0</td>\n",
       "      <td>0.954667</td>\n",
       "      <td>2.045333</td>\n",
       "      <td>1.514667</td>\n",
       "      <td>...</td>\n",
       "      <td>2.757333</td>\n",
       "      <td>1.522667</td>\n",
       "      <td>2.997333</td>\n",
       "      <td>3.298667</td>\n",
       "      <td>0.999963</td>\n",
       "    </tr>\n",
       "    <tr>\n",
       "      <th>std</th>\n",
       "      <td>593.352081</td>\n",
       "      <td>0.0</td>\n",
       "      <td>1.212931</td>\n",
       "      <td>1.275257</td>\n",
       "      <td>2.241842</td>\n",
       "      <td>...</td>\n",
       "      <td>1.461555</td>\n",
       "      <td>0.500153</td>\n",
       "      <td>1.637624</td>\n",
       "      <td>1.352903</td>\n",
       "      <td>0.110880</td>\n",
       "    </tr>\n",
       "    <tr>\n",
       "      <th>min</th>\n",
       "      <td>2.000000</td>\n",
       "      <td>9.0</td>\n",
       "      <td>0.000000</td>\n",
       "      <td>0.000000</td>\n",
       "      <td>0.000000</td>\n",
       "      <td>...</td>\n",
       "      <td>1.000000</td>\n",
       "      <td>1.000000</td>\n",
       "      <td>1.000000</td>\n",
       "      <td>1.000000</td>\n",
       "      <td>0.865878</td>\n",
       "    </tr>\n",
       "    <tr>\n",
       "      <th>25%</th>\n",
       "      <td>406.500000</td>\n",
       "      <td>9.0</td>\n",
       "      <td>0.000000</td>\n",
       "      <td>1.000000</td>\n",
       "      <td>0.000000</td>\n",
       "      <td>...</td>\n",
       "      <td>1.000000</td>\n",
       "      <td>1.000000</td>\n",
       "      <td>2.000000</td>\n",
       "      <td>2.000000</td>\n",
       "      <td>0.870378</td>\n",
       "    </tr>\n",
       "    <tr>\n",
       "      <th>50%</th>\n",
       "      <td>807.500000</td>\n",
       "      <td>9.0</td>\n",
       "      <td>0.000000</td>\n",
       "      <td>2.000000</td>\n",
       "      <td>0.000000</td>\n",
       "      <td>...</td>\n",
       "      <td>3.000000</td>\n",
       "      <td>2.000000</td>\n",
       "      <td>3.000000</td>\n",
       "      <td>3.000000</td>\n",
       "      <td>1.043120</td>\n",
       "    </tr>\n",
       "    <tr>\n",
       "      <th>75%</th>\n",
       "      <td>1425.500000</td>\n",
       "      <td>9.0</td>\n",
       "      <td>2.000000</td>\n",
       "      <td>3.000000</td>\n",
       "      <td>2.500000</td>\n",
       "      <td>...</td>\n",
       "      <td>4.000000</td>\n",
       "      <td>2.000000</td>\n",
       "      <td>4.000000</td>\n",
       "      <td>5.000000</td>\n",
       "      <td>1.088087</td>\n",
       "    </tr>\n",
       "    <tr>\n",
       "      <th>max</th>\n",
       "      <td>1924.000000</td>\n",
       "      <td>9.0</td>\n",
       "      <td>8.000000</td>\n",
       "      <td>8.000000</td>\n",
       "      <td>13.000000</td>\n",
       "      <td>...</td>\n",
       "      <td>5.000000</td>\n",
       "      <td>2.000000</td>\n",
       "      <td>9.000000</td>\n",
       "      <td>5.000000</td>\n",
       "      <td>1.115464</td>\n",
       "    </tr>\n",
       "  </tbody>\n",
       "</table>\n",
       "<p>8 rows × 22 columns</p>\n",
       "</div>"
      ],
      "text/plain": [
       "          Resp_num  Location        Work        Home          DA     ...      \\\n",
       "count   375.000000     375.0  375.000000  375.000000  375.000000     ...       \n",
       "mean    889.388000       9.0    0.954667    2.045333    1.514667     ...       \n",
       "std     593.352081       0.0    1.212931    1.275257    2.241842     ...       \n",
       "min       2.000000       9.0    0.000000    0.000000    0.000000     ...       \n",
       "25%     406.500000       9.0    0.000000    1.000000    0.000000     ...       \n",
       "50%     807.500000       9.0    0.000000    2.000000    0.000000     ...       \n",
       "75%    1425.500000       9.0    2.000000    3.000000    2.500000     ...       \n",
       "max    1924.000000       9.0    8.000000    8.000000   13.000000     ...       \n",
       "\n",
       "           Income      Gender        ZONE       AGECO      WEIGHT  \n",
       "count  375.000000  375.000000  375.000000  375.000000  375.000000  \n",
       "mean     2.757333    1.522667    2.997333    3.298667    0.999963  \n",
       "std      1.461555    0.500153    1.637624    1.352903    0.110880  \n",
       "min      1.000000    1.000000    1.000000    1.000000    0.865878  \n",
       "25%      1.000000    1.000000    2.000000    2.000000    0.870378  \n",
       "50%      3.000000    2.000000    3.000000    3.000000    1.043120  \n",
       "75%      4.000000    2.000000    4.000000    5.000000    1.088087  \n",
       "max      5.000000    2.000000    9.000000    5.000000    1.115464  \n",
       "\n",
       "[8 rows x 22 columns]"
      ]
     },
     "execution_count": 75,
     "metadata": {},
     "output_type": "execute_result"
    }
   ],
   "source": [
    "df.describe()"
   ]
  },
  {
   "cell_type": "code",
   "execution_count": 76,
   "metadata": {
    "collapsed": false
   },
   "outputs": [
    {
     "data": {
      "text/html": [
       "<div>\n",
       "<table border=\"1\" class=\"dataframe\">\n",
       "  <thead>\n",
       "    <tr style=\"text-align: right;\">\n",
       "      <th></th>\n",
       "      <th>Resp_num</th>\n",
       "      <th>Location</th>\n",
       "      <th>Work</th>\n",
       "      <th>Home</th>\n",
       "      <th>DA</th>\n",
       "      <th>...</th>\n",
       "      <th>Income</th>\n",
       "      <th>Gender</th>\n",
       "      <th>ZONE</th>\n",
       "      <th>AGECO</th>\n",
       "      <th>WEIGHT</th>\n",
       "    </tr>\n",
       "  </thead>\n",
       "  <tbody>\n",
       "    <tr>\n",
       "      <th>Resp_num</th>\n",
       "      <td>1.000000</td>\n",
       "      <td>NaN</td>\n",
       "      <td>-0.065795</td>\n",
       "      <td>-0.032020</td>\n",
       "      <td>-0.034172</td>\n",
       "      <td>...</td>\n",
       "      <td>-0.060553</td>\n",
       "      <td>-0.023714</td>\n",
       "      <td>0.029722</td>\n",
       "      <td>0.121043</td>\n",
       "      <td>0.021179</td>\n",
       "    </tr>\n",
       "    <tr>\n",
       "      <th>Location</th>\n",
       "      <td>NaN</td>\n",
       "      <td>NaN</td>\n",
       "      <td>NaN</td>\n",
       "      <td>NaN</td>\n",
       "      <td>NaN</td>\n",
       "      <td>...</td>\n",
       "      <td>NaN</td>\n",
       "      <td>NaN</td>\n",
       "      <td>NaN</td>\n",
       "      <td>NaN</td>\n",
       "      <td>NaN</td>\n",
       "    </tr>\n",
       "    <tr>\n",
       "      <th>Work</th>\n",
       "      <td>-0.065795</td>\n",
       "      <td>NaN</td>\n",
       "      <td>1.000000</td>\n",
       "      <td>0.060105</td>\n",
       "      <td>0.217064</td>\n",
       "      <td>...</td>\n",
       "      <td>0.182311</td>\n",
       "      <td>-0.084247</td>\n",
       "      <td>-0.000061</td>\n",
       "      <td>-0.071567</td>\n",
       "      <td>-0.101878</td>\n",
       "    </tr>\n",
       "    <tr>\n",
       "      <th>Home</th>\n",
       "      <td>-0.032020</td>\n",
       "      <td>NaN</td>\n",
       "      <td>0.060105</td>\n",
       "      <td>1.000000</td>\n",
       "      <td>0.300448</td>\n",
       "      <td>...</td>\n",
       "      <td>0.116378</td>\n",
       "      <td>-0.121089</td>\n",
       "      <td>-0.080602</td>\n",
       "      <td>-0.059011</td>\n",
       "      <td>-0.084258</td>\n",
       "    </tr>\n",
       "    <tr>\n",
       "      <th>DA</th>\n",
       "      <td>-0.034172</td>\n",
       "      <td>NaN</td>\n",
       "      <td>0.217064</td>\n",
       "      <td>0.300448</td>\n",
       "      <td>1.000000</td>\n",
       "      <td>...</td>\n",
       "      <td>0.185105</td>\n",
       "      <td>-0.102240</td>\n",
       "      <td>0.074661</td>\n",
       "      <td>0.031170</td>\n",
       "      <td>-0.078441</td>\n",
       "    </tr>\n",
       "    <tr>\n",
       "      <th>...</th>\n",
       "      <td>...</td>\n",
       "      <td>...</td>\n",
       "      <td>...</td>\n",
       "      <td>...</td>\n",
       "      <td>...</td>\n",
       "      <td>...</td>\n",
       "      <td>...</td>\n",
       "      <td>...</td>\n",
       "      <td>...</td>\n",
       "      <td>...</td>\n",
       "      <td>...</td>\n",
       "    </tr>\n",
       "    <tr>\n",
       "      <th>Income</th>\n",
       "      <td>-0.060553</td>\n",
       "      <td>NaN</td>\n",
       "      <td>0.182311</td>\n",
       "      <td>0.116378</td>\n",
       "      <td>0.185105</td>\n",
       "      <td>...</td>\n",
       "      <td>1.000000</td>\n",
       "      <td>-0.085727</td>\n",
       "      <td>-0.062830</td>\n",
       "      <td>0.092192</td>\n",
       "      <td>-0.161931</td>\n",
       "    </tr>\n",
       "    <tr>\n",
       "      <th>Gender</th>\n",
       "      <td>-0.023714</td>\n",
       "      <td>NaN</td>\n",
       "      <td>-0.084247</td>\n",
       "      <td>-0.121089</td>\n",
       "      <td>-0.102240</td>\n",
       "      <td>...</td>\n",
       "      <td>-0.085727</td>\n",
       "      <td>1.000000</td>\n",
       "      <td>0.050673</td>\n",
       "      <td>-0.021886</td>\n",
       "      <td>-0.018800</td>\n",
       "    </tr>\n",
       "    <tr>\n",
       "      <th>ZONE</th>\n",
       "      <td>0.029722</td>\n",
       "      <td>NaN</td>\n",
       "      <td>-0.000061</td>\n",
       "      <td>-0.080602</td>\n",
       "      <td>0.074661</td>\n",
       "      <td>...</td>\n",
       "      <td>-0.062830</td>\n",
       "      <td>0.050673</td>\n",
       "      <td>1.000000</td>\n",
       "      <td>-0.000846</td>\n",
       "      <td>0.015433</td>\n",
       "    </tr>\n",
       "    <tr>\n",
       "      <th>AGECO</th>\n",
       "      <td>0.121043</td>\n",
       "      <td>NaN</td>\n",
       "      <td>-0.071567</td>\n",
       "      <td>-0.059011</td>\n",
       "      <td>0.031170</td>\n",
       "      <td>...</td>\n",
       "      <td>0.092192</td>\n",
       "      <td>-0.021886</td>\n",
       "      <td>-0.000846</td>\n",
       "      <td>1.000000</td>\n",
       "      <td>-0.067236</td>\n",
       "    </tr>\n",
       "    <tr>\n",
       "      <th>WEIGHT</th>\n",
       "      <td>0.021179</td>\n",
       "      <td>NaN</td>\n",
       "      <td>-0.101878</td>\n",
       "      <td>-0.084258</td>\n",
       "      <td>-0.078441</td>\n",
       "      <td>...</td>\n",
       "      <td>-0.161931</td>\n",
       "      <td>-0.018800</td>\n",
       "      <td>0.015433</td>\n",
       "      <td>-0.067236</td>\n",
       "      <td>1.000000</td>\n",
       "    </tr>\n",
       "  </tbody>\n",
       "</table>\n",
       "<p>22 rows × 22 columns</p>\n",
       "</div>"
      ],
      "text/plain": [
       "          Resp_num  Location      Work      Home        DA    ...     \\\n",
       "Resp_num  1.000000       NaN -0.065795 -0.032020 -0.034172    ...      \n",
       "Location       NaN       NaN       NaN       NaN       NaN    ...      \n",
       "Work     -0.065795       NaN  1.000000  0.060105  0.217064    ...      \n",
       "Home     -0.032020       NaN  0.060105  1.000000  0.300448    ...      \n",
       "DA       -0.034172       NaN  0.217064  0.300448  1.000000    ...      \n",
       "...            ...       ...       ...       ...       ...    ...      \n",
       "Income   -0.060553       NaN  0.182311  0.116378  0.185105    ...      \n",
       "Gender   -0.023714       NaN -0.084247 -0.121089 -0.102240    ...      \n",
       "ZONE      0.029722       NaN -0.000061 -0.080602  0.074661    ...      \n",
       "AGECO     0.121043       NaN -0.071567 -0.059011  0.031170    ...      \n",
       "WEIGHT    0.021179       NaN -0.101878 -0.084258 -0.078441    ...      \n",
       "\n",
       "            Income    Gender      ZONE     AGECO    WEIGHT  \n",
       "Resp_num -0.060553 -0.023714  0.029722  0.121043  0.021179  \n",
       "Location       NaN       NaN       NaN       NaN       NaN  \n",
       "Work      0.182311 -0.084247 -0.000061 -0.071567 -0.101878  \n",
       "Home      0.116378 -0.121089 -0.080602 -0.059011 -0.084258  \n",
       "DA        0.185105 -0.102240  0.074661  0.031170 -0.078441  \n",
       "...            ...       ...       ...       ...       ...  \n",
       "Income    1.000000 -0.085727 -0.062830  0.092192 -0.161931  \n",
       "Gender   -0.085727  1.000000  0.050673 -0.021886 -0.018800  \n",
       "ZONE     -0.062830  0.050673  1.000000 -0.000846  0.015433  \n",
       "AGECO     0.092192 -0.021886 -0.000846  1.000000 -0.067236  \n",
       "WEIGHT   -0.161931 -0.018800  0.015433 -0.067236  1.000000  \n",
       "\n",
       "[22 rows x 22 columns]"
      ]
     },
     "execution_count": 76,
     "metadata": {},
     "output_type": "execute_result"
    }
   ],
   "source": [
    "df.corr()"
   ]
  },
  {
   "cell_type": "code",
   "execution_count": 77,
   "metadata": {
    "collapsed": false
   },
   "outputs": [
    {
     "data": {
      "text/plain": [
       "<matplotlib.axes._subplots.AxesSubplot at 0x11a11b190>"
      ]
     },
     "execution_count": 77,
     "metadata": {},
     "output_type": "execute_result"
    },
    {
     "data": {
      "image/png": "[encoded data removed]",
      "text/plain": [
       "<matplotlib.figure.Figure at 0x11336d050>"
      ]
     },
     "metadata": {},
     "output_type": "display_data"
    }
   ],
   "source": [
    "df[ ['Work', 'Home'] ].plot(kind = 'scatter', x = 'Work', y = 'Home', s = 100, figsize = (8, 8))"
   ]
  },
  {
   "cell_type": "code",
   "execution_count": 78,
   "metadata": {
    "collapsed": false
   },
   "outputs": [
    {
     "data": {
      "text/plain": [
       "<matplotlib.axes._subplots.AxesSubplot at 0x11a1043d0>"
      ]
     },
     "execution_count": 78,
     "metadata": {},
     "output_type": "execute_result"
    },
    {
     "data": {
      "image/png": "[encoded data removed]",
      "text/plain": [
       "<matplotlib.figure.Figure at 0x11a12b110>"
      ]
     },
     "metadata": {},
     "output_type": "display_data"
    }
   ],
   "source": [
    "df[ ['DA', 'DO'] ].plot(kind = 'scatter', x = 'DA', y = 'DO', s = 100, figsize = (8, 8))"
   ]
  },
  {
   "cell_type": "code",
   "execution_count": 79,
   "metadata": {
    "collapsed": false
   },
   "outputs": [
    {
     "data": {
      "text/plain": [
       "<matplotlib.axes._subplots.AxesSubplot at 0x11a170550>"
      ]
     },
     "execution_count": 79,
     "metadata": {},
     "output_type": "execute_result"
    },
    {
     "data": {
      "image/png": "[encoded data removed]",
      "text/plain": [
       "<matplotlib.figure.Figure at 0x11a184bd0>"
      ]
     },
     "metadata": {},
     "output_type": "display_data"
    }
   ],
   "source": [
    "df[ ['Work', 'CRSHRE'] ].plot(kind = 'scatter', x = 'Work', y = 'CRSHRE', s = 100, figsize = (8, 8))"
   ]
  },
  {
   "cell_type": "code",
   "execution_count": 80,
   "metadata": {
    "collapsed": false
   },
   "outputs": [
    {
     "data": {
      "text/plain": [
       "<matplotlib.axes._subplots.AxesSubplot at 0x11a1ebf10>"
      ]
     },
     "execution_count": 80,
     "metadata": {},
     "output_type": "execute_result"
    },
    {
     "data": {
      "image/png": "[encoded data removed]",
      "text/plain": [
       "<matplotlib.figure.Figure at 0x11f9d9e90>"
      ]
     },
     "metadata": {},
     "output_type": "display_data"
    }
   ],
   "source": [
    "df[ ['Work', 'DA'] ].plot(kind = 'scatter', x = 'Work', y = 'DA', s = 100, figsize = (8, 8))"
   ]
  },
  {
   "cell_type": "code",
   "execution_count": 81,
   "metadata": {
    "collapsed": false
   },
   "outputs": [
    {
     "data": {
      "text/plain": [
       "<matplotlib.axes._subplots.AxesSubplot at 0x11fc23110>"
      ]
     },
     "execution_count": 81,
     "metadata": {},
     "output_type": "execute_result"
    },
    {
     "data": {
      "image/png": "[encoded data removed]",
      "text/plain": [
       "<matplotlib.figure.Figure at 0x11f9d9790>"
      ]
     },
     "metadata": {},
     "output_type": "display_data"
    }
   ],
   "source": [
    "df.Work.plot(kind = 'hist')"
   ]
  },
  {
   "cell_type": "code",
   "execution_count": 82,
   "metadata": {
    "collapsed": false
   },
   "outputs": [
    {
     "data": {
      "image/png": "[encoded data removed]",
      "text/plain": [
       "<matplotlib.figure.Figure at 0x11fdb5250>"
      ]
     },
     "metadata": {},
     "output_type": "display_data"
    },
    {
     "data": {
      "text/plain": [
       "array([[ 1.        ,  0.06010457],\n",
       "       [ 0.06010457,  1.        ]])"
      ]
     },
     "execution_count": 82,
     "metadata": {},
     "output_type": "execute_result"
    }
   ],
   "source": [
    "plt.scatter(df.Home, df.Work)\n",
    "plt.show()\n",
    "np.corrcoef(df.Home, df.Work)"
   ]
  },
  {
   "cell_type": "code",
   "execution_count": 83,
   "metadata": {
    "collapsed": false
   },
   "outputs": [
    {
     "data": {
      "text/plain": [
       "<seaborn.axisgrid.FacetGrid at 0x11dd1fbd0>"
      ]
     },
     "execution_count": 83,
     "metadata": {},
     "output_type": "execute_result"
    },
    {
     "data": {
      "image/png": "[encoded data removed]",
      "text/plain": [
       "<matplotlib.figure.Figure at 0x11cfc1cd0>"
      ]
     },
     "metadata": {},
     "output_type": "display_data"
    }
   ],
   "source": [
    "sns.lmplot(x = 'DA', y = 'Work', data = df)"
   ]
  },
  {
   "cell_type": "code",
   "execution_count": 84,
   "metadata": {
    "collapsed": true
   },
   "outputs": [],
   "source": [
    "## Dropping the outliers"
   ]
  },
  {
   "cell_type": "code",
   "execution_count": 85,
   "metadata": {
    "collapsed": false
   },
   "outputs": [
    {
     "data": {
      "text/plain": [
       "<matplotlib.axes._subplots.AxesSubplot at 0x120068e10>"
      ]
     },
     "execution_count": 85,
     "metadata": {},
     "output_type": "execute_result"
    },
    {
     "data": {
      "image/png": "[encoded data removed]",
      "text/plain": [
       "<matplotlib.figure.Figure at 0x120081050>"
      ]
     },
     "metadata": {},
     "output_type": "display_data"
    }
   ],
   "source": [
    "df.Work.plot(kind = 'box')"
   ]
  },
  {
   "cell_type": "code",
   "execution_count": 86,
   "metadata": {
    "collapsed": false
   },
   "outputs": [
    {
     "name": "stdout",
     "output_type": "stream",
     "text": [
      "Dropping outliers\n",
      "- n (before) = 375\n",
      "- Q1         = 0.0 ($M)\n",
      "- Q2/Median  = 0.0 ($M)\n",
      "- Q3         = 2.0 ($M)\n",
      "- n (after)  = 374\n"
     ]
    }
   ],
   "source": [
    "def drop_outliers(df):\n",
    "    print 'Dropping outliers'\n",
    "    print '- n (before) =', len(df)\n",
    "\n",
    "    Q1 = df.Work.quantile(.25)\n",
    "    Q2 = df.Work.quantile(.5)\n",
    "    Q3 = df.Work.quantile(.75)\n",
    "    IQR = Q3 - Q1\n",
    "\n",
    "    print '- Q1         =', Q1, '($M)'\n",
    "    print '- Q2/Median  =', Q2, '($M)'\n",
    "    print '- Q3         =', Q3, '($M)'\n",
    "\n",
    "    df.drop(df[df.Work > Q3 + 1.5 * IQR].index, inplace = True)\n",
    "\n",
    "    print '- n (after)  =', len(df)\n",
    "    \n",
    "drop_outliers(df)"
   ]
  },
  {
   "cell_type": "code",
   "execution_count": 87,
   "metadata": {
    "collapsed": false
   },
   "outputs": [
    {
     "name": "stdout",
     "output_type": "stream",
     "text": [
      "Dropping outliers\n",
      "- n (before) = 374\n",
      "- Q1         = 1.0 ($M)\n",
      "- Q2/Median  = 2.0 ($M)\n",
      "- Q3         = 3.0 ($M)\n",
      "- n (after)  = 372\n"
     ]
    }
   ],
   "source": [
    "def drop_outliers(df):\n",
    "    print 'Dropping outliers'\n",
    "    print '- n (before) =', len(df)\n",
    "\n",
    "    Q1 = df.Home.quantile(.25)\n",
    "    Q2 = df.Home.quantile(.5)\n",
    "    Q3 = df.Home.quantile(.75)\n",
    "    IQR = Q3 - Q1\n",
    "\n",
    "    print '- Q1         =', Q1, '($M)'\n",
    "    print '- Q2/Median  =', Q2, '($M)'\n",
    "    print '- Q3         =', Q3, '($M)'\n",
    "\n",
    "    df.drop(df[df.Home > Q3 + 1.5 * IQR].index, inplace = True)\n",
    "\n",
    "    print '- n (after)  =', len(df)\n",
    "    \n",
    "drop_outliers(df)"
   ]
  },
  {
   "cell_type": "code",
   "execution_count": 88,
   "metadata": {
    "collapsed": false
   },
   "outputs": [
    {
     "name": "stdout",
     "output_type": "stream",
     "text": [
      "Dropping outliers\n",
      "- n (before) = 372\n",
      "- Q1         = 0.0 ($M)\n",
      "- Q2/Median  = 0.0 ($M)\n",
      "- Q3         = 2.0 ($M)\n",
      "- n (after)  = 344\n"
     ]
    }
   ],
   "source": [
    "def drop_outliers(df):\n",
    "    print 'Dropping outliers'\n",
    "    print '- n (before) =', len(df)\n",
    "\n",
    "    Q1 = df.DA.quantile(.25)\n",
    "    Q2 = df.DA.quantile(.5)\n",
    "    Q3 = df.DA.quantile(.75)\n",
    "    IQR = Q3 - Q1\n",
    "\n",
    "    print '- Q1         =', Q1, '($M)'\n",
    "    print '- Q2/Median  =', Q2, '($M)'\n",
    "    print '- Q3         =', Q3, '($M)'\n",
    "\n",
    "    df.drop(df[df.DA > Q3 + 1.5 * IQR].index, inplace = True)\n",
    "\n",
    "    print '- n (after)  =', len(df)\n",
    "    \n",
    "drop_outliers(df)"
   ]
  },
  {
   "cell_type": "code",
   "execution_count": 89,
   "metadata": {
    "collapsed": false
   },
   "outputs": [
    {
     "name": "stdout",
     "output_type": "stream",
     "text": [
      "Dropping outliers\n",
      "- n (before) = 344\n",
      "- Q1         = 0.0 ($M)\n",
      "- Q2/Median  = 0.0 ($M)\n",
      "- Q3         = 0.0 ($M)\n",
      "- n (after)  = 341\n"
     ]
    }
   ],
   "source": [
    "def drop_outliers(df):\n",
    "    print 'Dropping outliers'\n",
    "    print '- n (before) =', len(df)\n",
    "\n",
    "    Q1 = df.CRSHRE.quantile(.25)\n",
    "    Q2 = df.CRSHRE.quantile(.5)\n",
    "    Q3 = df.CRSHRE.quantile(.75)\n",
    "    IQR = Q3 - Q1\n",
    "\n",
    "    print '- Q1         =', Q1, '($M)'\n",
    "    print '- Q2/Median  =', Q2, '($M)'\n",
    "    print '- Q3         =', Q3, '($M)'\n",
    "\n",
    "    df.drop(df[df.CRSHRE > Q3 + 1.5 * IQR].index, inplace = True)\n",
    "\n",
    "    print '- n (after)  =', len(df)\n",
    "    \n",
    "drop_outliers(df)"
   ]
  },
  {
   "cell_type": "code",
   "execution_count": 90,
   "metadata": {
    "collapsed": false
   },
   "outputs": [
    {
     "data": {
      "text/plain": [
       "<seaborn.axisgrid.FacetGrid at 0x12025af10>"
      ]
     },
     "execution_count": 90,
     "metadata": {},
     "output_type": "execute_result"
    },
    {
     "data": {
      "image/png": "[encoded data removed]",
      "text/plain": [
       "<matplotlib.figure.Figure at 0x12025a650>"
      ]
     },
     "metadata": {},
     "output_type": "display_data"
    }
   ],
   "source": [
    "sns.lmplot(x = 'DA', y = 'Work', data = df)"
   ]
  },
  {
   "cell_type": "markdown",
   "metadata": {},
   "source": [
    "### Tidying up the CommuteChoice"
   ]
  },
  {
   "cell_type": "code",
   "execution_count": 91,
   "metadata": {
    "collapsed": true
   },
   "outputs": [],
   "source": [
    "X = df[ ['Work', 'Home' ] ]"
   ]
  },
  {
   "cell_type": "code",
   "execution_count": 92,
   "metadata": {
    "collapsed": true
   },
   "outputs": [],
   "source": [
    "ys = pd.get_dummies(df.Work, prefix = None)"
   ]
  },
  {
   "cell_type": "code",
   "execution_count": 93,
   "metadata": {
    "collapsed": false
   },
   "outputs": [
    {
     "data": {
      "text/html": [
       "<div>\n",
       "<table border=\"1\" class=\"dataframe\">\n",
       "  <thead>\n",
       "    <tr style=\"text-align: right;\">\n",
       "      <th></th>\n",
       "      <th>0</th>\n",
       "      <th>1</th>\n",
       "      <th>2</th>\n",
       "      <th>3</th>\n",
       "      <th>4</th>\n",
       "      <th>5</th>\n",
       "    </tr>\n",
       "  </thead>\n",
       "  <tbody>\n",
       "    <tr>\n",
       "      <th>0</th>\n",
       "      <td>1.0</td>\n",
       "      <td>0.0</td>\n",
       "      <td>0.0</td>\n",
       "      <td>0.0</td>\n",
       "      <td>0.0</td>\n",
       "      <td>0.0</td>\n",
       "    </tr>\n",
       "    <tr>\n",
       "      <th>1</th>\n",
       "      <td>0.0</td>\n",
       "      <td>0.0</td>\n",
       "      <td>0.0</td>\n",
       "      <td>0.0</td>\n",
       "      <td>1.0</td>\n",
       "      <td>0.0</td>\n",
       "    </tr>\n",
       "    <tr>\n",
       "      <th>4</th>\n",
       "      <td>1.0</td>\n",
       "      <td>0.0</td>\n",
       "      <td>0.0</td>\n",
       "      <td>0.0</td>\n",
       "      <td>0.0</td>\n",
       "      <td>0.0</td>\n",
       "    </tr>\n",
       "    <tr>\n",
       "      <th>7</th>\n",
       "      <td>0.0</td>\n",
       "      <td>0.0</td>\n",
       "      <td>0.0</td>\n",
       "      <td>1.0</td>\n",
       "      <td>0.0</td>\n",
       "      <td>0.0</td>\n",
       "    </tr>\n",
       "    <tr>\n",
       "      <th>9</th>\n",
       "      <td>1.0</td>\n",
       "      <td>0.0</td>\n",
       "      <td>0.0</td>\n",
       "      <td>0.0</td>\n",
       "      <td>0.0</td>\n",
       "      <td>0.0</td>\n",
       "    </tr>\n",
       "    <tr>\n",
       "      <th>...</th>\n",
       "      <td>...</td>\n",
       "      <td>...</td>\n",
       "      <td>...</td>\n",
       "      <td>...</td>\n",
       "      <td>...</td>\n",
       "      <td>...</td>\n",
       "    </tr>\n",
       "    <tr>\n",
       "      <th>762</th>\n",
       "      <td>0.0</td>\n",
       "      <td>1.0</td>\n",
       "      <td>0.0</td>\n",
       "      <td>0.0</td>\n",
       "      <td>0.0</td>\n",
       "      <td>0.0</td>\n",
       "    </tr>\n",
       "    <tr>\n",
       "      <th>763</th>\n",
       "      <td>0.0</td>\n",
       "      <td>0.0</td>\n",
       "      <td>1.0</td>\n",
       "      <td>0.0</td>\n",
       "      <td>0.0</td>\n",
       "      <td>0.0</td>\n",
       "    </tr>\n",
       "    <tr>\n",
       "      <th>764</th>\n",
       "      <td>1.0</td>\n",
       "      <td>0.0</td>\n",
       "      <td>0.0</td>\n",
       "      <td>0.0</td>\n",
       "      <td>0.0</td>\n",
       "      <td>0.0</td>\n",
       "    </tr>\n",
       "    <tr>\n",
       "      <th>765</th>\n",
       "      <td>1.0</td>\n",
       "      <td>0.0</td>\n",
       "      <td>0.0</td>\n",
       "      <td>0.0</td>\n",
       "      <td>0.0</td>\n",
       "      <td>0.0</td>\n",
       "    </tr>\n",
       "    <tr>\n",
       "      <th>766</th>\n",
       "      <td>1.0</td>\n",
       "      <td>0.0</td>\n",
       "      <td>0.0</td>\n",
       "      <td>0.0</td>\n",
       "      <td>0.0</td>\n",
       "      <td>0.0</td>\n",
       "    </tr>\n",
       "  </tbody>\n",
       "</table>\n",
       "<p>341 rows × 6 columns</p>\n",
       "</div>"
      ],
      "text/plain": [
       "       0    1    2    3    4    5\n",
       "0    1.0  0.0  0.0  0.0  0.0  0.0\n",
       "1    0.0  0.0  0.0  0.0  1.0  0.0\n",
       "4    1.0  0.0  0.0  0.0  0.0  0.0\n",
       "7    0.0  0.0  0.0  1.0  0.0  0.0\n",
       "9    1.0  0.0  0.0  0.0  0.0  0.0\n",
       "..   ...  ...  ...  ...  ...  ...\n",
       "762  0.0  1.0  0.0  0.0  0.0  0.0\n",
       "763  0.0  0.0  1.0  0.0  0.0  0.0\n",
       "764  1.0  0.0  0.0  0.0  0.0  0.0\n",
       "765  1.0  0.0  0.0  0.0  0.0  0.0\n",
       "766  1.0  0.0  0.0  0.0  0.0  0.0\n",
       "\n",
       "[341 rows x 6 columns]"
      ]
     },
     "execution_count": 93,
     "metadata": {},
     "output_type": "execute_result"
    }
   ],
   "source": [
    "ys"
   ]
  },
  {
   "cell_type": "code",
   "execution_count": 148,
   "metadata": {
    "collapsed": false
   },
   "outputs": [
    {
     "data": {
      "text/plain": [
       "<matplotlib.axes._subplots.AxesSubplot at 0x11fbf76d0>"
      ]
     },
     "execution_count": 148,
     "metadata": {},
     "output_type": "execute_result"
    },
    {
     "data": {
      "image/png": "[encoded data removed]",
      "text/plain": [
       "<matplotlib.figure.Figure at 0x11dd1f910>"
      ]
     },
     "metadata": {},
     "output_type": "display_data"
    }
   ],
   "source": [
    "df[ ['Work', 'Home'] ].plot(kind = 'scatter', x = 'Work', y = 'Home', s = 100, figsize = (8, 8))"
   ]
  },
  {
   "cell_type": "markdown",
   "metadata": {},
   "source": [
    "# PROJECT 4"
   ]
  },
  {
   "cell_type": "markdown",
   "metadata": {},
   "source": [
    "### Feature matrix and label vector"
   ]
  },
  {
   "cell_type": "code",
   "execution_count": 139,
   "metadata": {
    "collapsed": false
   },
   "outputs": [
    {
     "data": {
      "text/html": [
       "<div>\n",
       "<table border=\"1\" class=\"dataframe\">\n",
       "  <thead>\n",
       "    <tr style=\"text-align: right;\">\n",
       "      <th></th>\n",
       "      <th>DA</th>\n",
       "      <th>DO</th>\n",
       "      <th>CRSHRE</th>\n",
       "      <th>TRANS</th>\n",
       "    </tr>\n",
       "  </thead>\n",
       "  <tbody>\n",
       "    <tr>\n",
       "      <th>0</th>\n",
       "      <td>0.0</td>\n",
       "      <td>0.0</td>\n",
       "      <td>0.0</td>\n",
       "      <td>2.0</td>\n",
       "    </tr>\n",
       "    <tr>\n",
       "      <th>1</th>\n",
       "      <td>2.0</td>\n",
       "      <td>1.0</td>\n",
       "      <td>0.0</td>\n",
       "      <td>4.0</td>\n",
       "    </tr>\n",
       "    <tr>\n",
       "      <th>4</th>\n",
       "      <td>0.0</td>\n",
       "      <td>2.0</td>\n",
       "      <td>0.0</td>\n",
       "      <td>0.0</td>\n",
       "    </tr>\n",
       "    <tr>\n",
       "      <th>7</th>\n",
       "      <td>5.0</td>\n",
       "      <td>4.0</td>\n",
       "      <td>0.0</td>\n",
       "      <td>0.0</td>\n",
       "    </tr>\n",
       "    <tr>\n",
       "      <th>9</th>\n",
       "      <td>1.0</td>\n",
       "      <td>1.0</td>\n",
       "      <td>0.0</td>\n",
       "      <td>0.0</td>\n",
       "    </tr>\n",
       "    <tr>\n",
       "      <th>...</th>\n",
       "      <td>...</td>\n",
       "      <td>...</td>\n",
       "      <td>...</td>\n",
       "      <td>...</td>\n",
       "    </tr>\n",
       "    <tr>\n",
       "      <th>762</th>\n",
       "      <td>2.0</td>\n",
       "      <td>4.0</td>\n",
       "      <td>0.0</td>\n",
       "      <td>0.0</td>\n",
       "    </tr>\n",
       "    <tr>\n",
       "      <th>763</th>\n",
       "      <td>0.0</td>\n",
       "      <td>2.0</td>\n",
       "      <td>0.0</td>\n",
       "      <td>4.0</td>\n",
       "    </tr>\n",
       "    <tr>\n",
       "      <th>764</th>\n",
       "      <td>0.0</td>\n",
       "      <td>0.0</td>\n",
       "      <td>0.0</td>\n",
       "      <td>5.0</td>\n",
       "    </tr>\n",
       "    <tr>\n",
       "      <th>765</th>\n",
       "      <td>0.0</td>\n",
       "      <td>0.0</td>\n",
       "      <td>0.0</td>\n",
       "      <td>4.0</td>\n",
       "    </tr>\n",
       "    <tr>\n",
       "      <th>766</th>\n",
       "      <td>0.0</td>\n",
       "      <td>0.0</td>\n",
       "      <td>0.0</td>\n",
       "      <td>10.0</td>\n",
       "    </tr>\n",
       "  </tbody>\n",
       "</table>\n",
       "<p>341 rows × 4 columns</p>\n",
       "</div>"
      ],
      "text/plain": [
       "      DA   DO  CRSHRE  TRANS\n",
       "0    0.0  0.0     0.0    2.0\n",
       "1    2.0  1.0     0.0    4.0\n",
       "4    0.0  2.0     0.0    0.0\n",
       "7    5.0  4.0     0.0    0.0\n",
       "9    1.0  1.0     0.0    0.0\n",
       "..   ...  ...     ...    ...\n",
       "762  2.0  4.0     0.0    0.0\n",
       "763  0.0  2.0     0.0    4.0\n",
       "764  0.0  0.0     0.0    5.0\n",
       "765  0.0  0.0     0.0    4.0\n",
       "766  0.0  0.0     0.0   10.0\n",
       "\n",
       "[341 rows x 4 columns]"
      ]
     },
     "execution_count": 139,
     "metadata": {},
     "output_type": "execute_result"
    }
   ],
   "source": [
    "X = df[ ['DA', 'DO', 'CRSHRE', 'TRANS'] ]\n",
    "X"
   ]
  },
  {
   "cell_type": "code",
   "execution_count": 124,
   "metadata": {
    "collapsed": false
   },
   "outputs": [
    {
     "data": {
      "text/html": [
       "<div>\n",
       "<table border=\"1\" class=\"dataframe\">\n",
       "  <thead>\n",
       "    <tr style=\"text-align: right;\">\n",
       "      <th></th>\n",
       "      <th>0</th>\n",
       "      <th>1</th>\n",
       "      <th>2</th>\n",
       "      <th>3</th>\n",
       "      <th>4</th>\n",
       "      <th>5</th>\n",
       "    </tr>\n",
       "  </thead>\n",
       "  <tbody>\n",
       "    <tr>\n",
       "      <th>0</th>\n",
       "      <td>1.0</td>\n",
       "      <td>0.0</td>\n",
       "      <td>0.0</td>\n",
       "      <td>0.0</td>\n",
       "      <td>0.0</td>\n",
       "      <td>0.0</td>\n",
       "    </tr>\n",
       "    <tr>\n",
       "      <th>1</th>\n",
       "      <td>0.0</td>\n",
       "      <td>0.0</td>\n",
       "      <td>0.0</td>\n",
       "      <td>0.0</td>\n",
       "      <td>1.0</td>\n",
       "      <td>0.0</td>\n",
       "    </tr>\n",
       "    <tr>\n",
       "      <th>4</th>\n",
       "      <td>1.0</td>\n",
       "      <td>0.0</td>\n",
       "      <td>0.0</td>\n",
       "      <td>0.0</td>\n",
       "      <td>0.0</td>\n",
       "      <td>0.0</td>\n",
       "    </tr>\n",
       "    <tr>\n",
       "      <th>7</th>\n",
       "      <td>0.0</td>\n",
       "      <td>0.0</td>\n",
       "      <td>0.0</td>\n",
       "      <td>1.0</td>\n",
       "      <td>0.0</td>\n",
       "      <td>0.0</td>\n",
       "    </tr>\n",
       "    <tr>\n",
       "      <th>9</th>\n",
       "      <td>1.0</td>\n",
       "      <td>0.0</td>\n",
       "      <td>0.0</td>\n",
       "      <td>0.0</td>\n",
       "      <td>0.0</td>\n",
       "      <td>0.0</td>\n",
       "    </tr>\n",
       "    <tr>\n",
       "      <th>...</th>\n",
       "      <td>...</td>\n",
       "      <td>...</td>\n",
       "      <td>...</td>\n",
       "      <td>...</td>\n",
       "      <td>...</td>\n",
       "      <td>...</td>\n",
       "    </tr>\n",
       "    <tr>\n",
       "      <th>762</th>\n",
       "      <td>0.0</td>\n",
       "      <td>1.0</td>\n",
       "      <td>0.0</td>\n",
       "      <td>0.0</td>\n",
       "      <td>0.0</td>\n",
       "      <td>0.0</td>\n",
       "    </tr>\n",
       "    <tr>\n",
       "      <th>763</th>\n",
       "      <td>0.0</td>\n",
       "      <td>0.0</td>\n",
       "      <td>1.0</td>\n",
       "      <td>0.0</td>\n",
       "      <td>0.0</td>\n",
       "      <td>0.0</td>\n",
       "    </tr>\n",
       "    <tr>\n",
       "      <th>764</th>\n",
       "      <td>1.0</td>\n",
       "      <td>0.0</td>\n",
       "      <td>0.0</td>\n",
       "      <td>0.0</td>\n",
       "      <td>0.0</td>\n",
       "      <td>0.0</td>\n",
       "    </tr>\n",
       "    <tr>\n",
       "      <th>765</th>\n",
       "      <td>1.0</td>\n",
       "      <td>0.0</td>\n",
       "      <td>0.0</td>\n",
       "      <td>0.0</td>\n",
       "      <td>0.0</td>\n",
       "      <td>0.0</td>\n",
       "    </tr>\n",
       "    <tr>\n",
       "      <th>766</th>\n",
       "      <td>1.0</td>\n",
       "      <td>0.0</td>\n",
       "      <td>0.0</td>\n",
       "      <td>0.0</td>\n",
       "      <td>0.0</td>\n",
       "      <td>0.0</td>\n",
       "    </tr>\n",
       "  </tbody>\n",
       "</table>\n",
       "<p>341 rows × 6 columns</p>\n",
       "</div>"
      ],
      "text/plain": [
       "       0    1    2    3    4    5\n",
       "0    1.0  0.0  0.0  0.0  0.0  0.0\n",
       "1    0.0  0.0  0.0  0.0  1.0  0.0\n",
       "4    1.0  0.0  0.0  0.0  0.0  0.0\n",
       "7    0.0  0.0  0.0  1.0  0.0  0.0\n",
       "9    1.0  0.0  0.0  0.0  0.0  0.0\n",
       "..   ...  ...  ...  ...  ...  ...\n",
       "762  0.0  1.0  0.0  0.0  0.0  0.0\n",
       "763  0.0  0.0  1.0  0.0  0.0  0.0\n",
       "764  1.0  0.0  0.0  0.0  0.0  0.0\n",
       "765  1.0  0.0  0.0  0.0  0.0  0.0\n",
       "766  1.0  0.0  0.0  0.0  0.0  0.0\n",
       "\n",
       "[341 rows x 6 columns]"
      ]
     },
     "execution_count": 124,
     "metadata": {},
     "output_type": "execute_result"
    }
   ],
   "source": [
    "ys = pd.get_dummies(df.Work, prefix = None)\n",
    "ys"
   ]
  },
  {
   "cell_type": "code",
   "execution_count": 140,
   "metadata": {
    "collapsed": true
   },
   "outputs": [],
   "source": [
    "y = df.Work"
   ]
  },
  {
   "cell_type": "code",
   "execution_count": 141,
   "metadata": {
    "collapsed": true
   },
   "outputs": [],
   "source": [
    "from sklearn import neighbors, metrics, grid_search, cross_validation"
   ]
  },
  {
   "cell_type": "code",
   "execution_count": 142,
   "metadata": {
    "collapsed": false
   },
   "outputs": [
    {
     "data": {
      "text/plain": [
       "KNeighborsClassifier(algorithm='auto', leaf_size=30, metric='minkowski',\n",
       "           metric_params=None, n_jobs=1, n_neighbors=5, p=2,\n",
       "           weights='uniform')"
      ]
     },
     "execution_count": 142,
     "metadata": {},
     "output_type": "execute_result"
    }
   ],
   "source": [
    "model = neighbors.KNeighborsClassifier(n_neighbors = 5, weights = 'uniform')\n",
    "model.fit(X, y)"
   ]
  },
  {
   "cell_type": "code",
   "execution_count": 144,
   "metadata": {
    "collapsed": true
   },
   "outputs": [],
   "source": [
    "def my_second_classifier(row):\n",
    "    if row.Work < 2:\n",
    "        return 'DA'\n",
    "    elif row.Home < 5:\n",
    "        return 'DO'\n",
    "    else:\n",
    "        return 'CRSHRE'"
   ]
  },
  {
   "cell_type": "code",
   "execution_count": 146,
   "metadata": {
    "collapsed": false
   },
   "outputs": [],
   "source": [
    "y_hat = df.apply(my_second_classifier, axis = 1)"
   ]
  },
  {
   "cell_type": "code",
   "execution_count": 147,
   "metadata": {
    "collapsed": false
   },
   "outputs": [
    {
     "data": {
      "text/html": [
       "<div>\n",
       "<table border=\"1\" class=\"dataframe\">\n",
       "  <thead>\n",
       "    <tr style=\"text-align: right;\">\n",
       "      <th></th>\n",
       "      <th>Income</th>\n",
       "      <th>Location</th>\n",
       "      <th>DA</th>\n",
       "      <th>CRSHRE</th>\n",
       "    </tr>\n",
       "  </thead>\n",
       "  <tbody>\n",
       "    <tr>\n",
       "      <th>0</th>\n",
       "      <td>1</td>\n",
       "      <td>9</td>\n",
       "      <td>0.0</td>\n",
       "      <td>0.0</td>\n",
       "    </tr>\n",
       "    <tr>\n",
       "      <th>1</th>\n",
       "      <td>4</td>\n",
       "      <td>9</td>\n",
       "      <td>2.0</td>\n",
       "      <td>0.0</td>\n",
       "    </tr>\n",
       "    <tr>\n",
       "      <th>4</th>\n",
       "      <td>4</td>\n",
       "      <td>9</td>\n",
       "      <td>0.0</td>\n",
       "      <td>0.0</td>\n",
       "    </tr>\n",
       "    <tr>\n",
       "      <th>7</th>\n",
       "      <td>3</td>\n",
       "      <td>9</td>\n",
       "      <td>5.0</td>\n",
       "      <td>0.0</td>\n",
       "    </tr>\n",
       "    <tr>\n",
       "      <th>9</th>\n",
       "      <td>1</td>\n",
       "      <td>9</td>\n",
       "      <td>1.0</td>\n",
       "      <td>0.0</td>\n",
       "    </tr>\n",
       "    <tr>\n",
       "      <th>...</th>\n",
       "      <td>...</td>\n",
       "      <td>...</td>\n",
       "      <td>...</td>\n",
       "      <td>...</td>\n",
       "    </tr>\n",
       "    <tr>\n",
       "      <th>762</th>\n",
       "      <td>2</td>\n",
       "      <td>9</td>\n",
       "      <td>2.0</td>\n",
       "      <td>0.0</td>\n",
       "    </tr>\n",
       "    <tr>\n",
       "      <th>763</th>\n",
       "      <td>3</td>\n",
       "      <td>9</td>\n",
       "      <td>0.0</td>\n",
       "      <td>0.0</td>\n",
       "    </tr>\n",
       "    <tr>\n",
       "      <th>764</th>\n",
       "      <td>1</td>\n",
       "      <td>9</td>\n",
       "      <td>0.0</td>\n",
       "      <td>0.0</td>\n",
       "    </tr>\n",
       "    <tr>\n",
       "      <th>765</th>\n",
       "      <td>2</td>\n",
       "      <td>9</td>\n",
       "      <td>0.0</td>\n",
       "      <td>0.0</td>\n",
       "    </tr>\n",
       "    <tr>\n",
       "      <th>766</th>\n",
       "      <td>5</td>\n",
       "      <td>9</td>\n",
       "      <td>0.0</td>\n",
       "      <td>0.0</td>\n",
       "    </tr>\n",
       "  </tbody>\n",
       "</table>\n",
       "<p>341 rows × 4 columns</p>\n",
       "</div>"
      ],
      "text/plain": [
       "     Income  Location   DA  CRSHRE\n",
       "0         1         9  0.0     0.0\n",
       "1         4         9  2.0     0.0\n",
       "4         4         9  0.0     0.0\n",
       "7         3         9  5.0     0.0\n",
       "9         1         9  1.0     0.0\n",
       "..      ...       ...  ...     ...\n",
       "762       2         9  2.0     0.0\n",
       "763       3         9  0.0     0.0\n",
       "764       1         9  0.0     0.0\n",
       "765       2         9  0.0     0.0\n",
       "766       5         9  0.0     0.0\n",
       "\n",
       "[341 rows x 4 columns]"
      ]
     },
     "execution_count": 147,
     "metadata": {},
     "output_type": "execute_result"
    }
   ],
   "source": [
    "df[['Income', 'Location', 'DA', 'CRSHRE']]"
   ]
  },
  {
   "cell_type": "code",
   "execution_count": 135,
   "metadata": {
    "collapsed": true
   },
   "outputs": [],
   "source": [
    "## As the income increases the carpole usage decrease dramatically"
   ]
  },
  {
   "cell_type": "code",
   "execution_count": null,
   "metadata": {
    "collapsed": true
   },
   "outputs": [],
   "source": [
    "## future steps will be creating visualization in order to show the results"
   ]
  }
 ],
 "metadata": {
  "kernelspec": {
   "display_name": "Python 2",
   "language": "python",
   "name": "python2"
  },
  "language_info": {
   "codemirror_mode": {
    "name": "ipython",
    "version": 2
   },
   "file_extension": ".py",
   "mimetype": "text/x-python",
   "name": "python",
   "nbconvert_exporter": "python",
   "pygments_lexer": "ipython2",
   "version": "2.7.11"
  }
 },
 "nbformat": 4,
 "nbformat_minor": 0
}
